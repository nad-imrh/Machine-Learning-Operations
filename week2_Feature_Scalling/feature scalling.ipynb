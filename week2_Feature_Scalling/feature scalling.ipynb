{
 "cells": [
  {
   "cell_type": "code",
   "execution_count": 81,
   "metadata": {},
   "outputs": [],
   "source": [
    "import pandas as pd\n",
    "import matplotlib.pyplot as plt\n",
    "import numpy as np\n",
    "import seaborn as sns\n",
    "from sklearn.model_selection import train_test_split\n"
   ]
  },
  {
   "cell_type": "markdown",
   "metadata": {},
   "source": [
    "## NADILA IMAARAH D4 SAINS DATA TERAPAN A"
   ]
  },
  {
   "cell_type": "markdown",
   "metadata": {},
   "source": [
    "## SOAL NOMOR 1"
   ]
  },
  {
   "cell_type": "code",
   "execution_count": 82,
   "metadata": {},
   "outputs": [
    {
     "data": {
      "text/html": [
       "<div>\n",
       "<style scoped>\n",
       "    .dataframe tbody tr th:only-of-type {\n",
       "        vertical-align: middle;\n",
       "    }\n",
       "\n",
       "    .dataframe tbody tr th {\n",
       "        vertical-align: top;\n",
       "    }\n",
       "\n",
       "    .dataframe thead th {\n",
       "        text-align: right;\n",
       "    }\n",
       "</style>\n",
       "<table border=\"1\" class=\"dataframe\">\n",
       "  <thead>\n",
       "    <tr style=\"text-align: right;\">\n",
       "      <th></th>\n",
       "      <th>MedInc</th>\n",
       "      <th>HouseAge</th>\n",
       "      <th>AveRooms</th>\n",
       "      <th>AveBedrms</th>\n",
       "      <th>Population</th>\n",
       "      <th>AveOccup</th>\n",
       "      <th>Latitude</th>\n",
       "      <th>Longitude</th>\n",
       "      <th>house_price</th>\n",
       "    </tr>\n",
       "  </thead>\n",
       "  <tbody>\n",
       "    <tr>\n",
       "      <th>0</th>\n",
       "      <td>8.3252</td>\n",
       "      <td>41.0</td>\n",
       "      <td>6.984127</td>\n",
       "      <td>1.023810</td>\n",
       "      <td>322.0</td>\n",
       "      <td>2.555556</td>\n",
       "      <td>37.88</td>\n",
       "      <td>-122.23</td>\n",
       "      <td>4.526</td>\n",
       "    </tr>\n",
       "    <tr>\n",
       "      <th>1</th>\n",
       "      <td>8.3014</td>\n",
       "      <td>21.0</td>\n",
       "      <td>6.238137</td>\n",
       "      <td>0.971880</td>\n",
       "      <td>2401.0</td>\n",
       "      <td>2.109842</td>\n",
       "      <td>37.86</td>\n",
       "      <td>-122.22</td>\n",
       "      <td>3.585</td>\n",
       "    </tr>\n",
       "    <tr>\n",
       "      <th>2</th>\n",
       "      <td>7.2574</td>\n",
       "      <td>52.0</td>\n",
       "      <td>8.288136</td>\n",
       "      <td>1.073446</td>\n",
       "      <td>496.0</td>\n",
       "      <td>2.802260</td>\n",
       "      <td>37.85</td>\n",
       "      <td>-122.24</td>\n",
       "      <td>3.521</td>\n",
       "    </tr>\n",
       "    <tr>\n",
       "      <th>3</th>\n",
       "      <td>5.6431</td>\n",
       "      <td>52.0</td>\n",
       "      <td>5.817352</td>\n",
       "      <td>1.073059</td>\n",
       "      <td>558.0</td>\n",
       "      <td>2.547945</td>\n",
       "      <td>37.85</td>\n",
       "      <td>-122.25</td>\n",
       "      <td>3.413</td>\n",
       "    </tr>\n",
       "    <tr>\n",
       "      <th>4</th>\n",
       "      <td>3.8462</td>\n",
       "      <td>52.0</td>\n",
       "      <td>6.281853</td>\n",
       "      <td>1.081081</td>\n",
       "      <td>565.0</td>\n",
       "      <td>2.181467</td>\n",
       "      <td>37.85</td>\n",
       "      <td>-122.25</td>\n",
       "      <td>3.422</td>\n",
       "    </tr>\n",
       "  </tbody>\n",
       "</table>\n",
       "</div>"
      ],
      "text/plain": [
       "   MedInc  HouseAge  AveRooms  AveBedrms  Population  AveOccup  Latitude  \\\n",
       "0  8.3252      41.0  6.984127   1.023810       322.0  2.555556     37.88   \n",
       "1  8.3014      21.0  6.238137   0.971880      2401.0  2.109842     37.86   \n",
       "2  7.2574      52.0  8.288136   1.073446       496.0  2.802260     37.85   \n",
       "3  5.6431      52.0  5.817352   1.073059       558.0  2.547945     37.85   \n",
       "4  3.8462      52.0  6.281853   1.081081       565.0  2.181467     37.85   \n",
       "\n",
       "   Longitude  house_price  \n",
       "0    -122.23        4.526  \n",
       "1    -122.22        3.585  \n",
       "2    -122.24        3.521  \n",
       "3    -122.25        3.413  \n",
       "4    -122.25        3.422  "
      ]
     },
     "execution_count": 82,
     "metadata": {},
     "output_type": "execute_result"
    }
   ],
   "source": [
    "df_california = pd.read_csv('california_dataset.csv')\n",
    "df_california.head()"
   ]
  },
  {
   "cell_type": "markdown",
   "metadata": {},
   "source": [
    "## 1A).MEMBAGI DATA"
   ]
  },
  {
   "cell_type": "code",
   "execution_count": 83,
   "metadata": {},
   "outputs": [
    {
     "name": "stdout",
     "output_type": "stream",
     "text": [
      "Ukuran Data Latih: (16512, 9)\n",
      "Ukuran Data Uji: (4128, 9)\n",
      "Ukuran Fitur X_train: (16512, 8)\n",
      "Ukuran Label y_train: (16512,)\n",
      "Ukuran Fitur X_test: (4128, 8)\n",
      "Ukuran Label y_test: (4128,)\n"
     ]
    }
   ],
   "source": [
    "from sklearn.model_selection import train_test_split\n",
    "\n",
    "from sklearn.model_selection import train_test_split\n",
    "\n",
    "\n",
    "train_clfr, test_clfr = train_test_split(df_california, test_size=0.2, random_state=42)\n",
    "\n",
    "X_train = train_clfr.drop(columns=['house_price'])\n",
    "y_train = train_clfr['house_price']\n",
    "\n",
    "# Memisahkan fitur (X) dan label (y) untuk data uji\n",
    "X_test = test_clfr.drop(columns=['house_price'])\n",
    "y_test = test_clfr['house_price']\n",
    "\n",
    "# Menampilkan ukuran dataset setelah pembagian\n",
    "print(\"Ukuran Data Latih:\", train_clfr.shape)\n",
    "print(\"Ukuran Data Uji:\", test_clfr.shape)\n",
    "print(\"Ukuran Fitur X_train:\", X_train.shape)\n",
    "print(\"Ukuran Label y_train:\", y_train.shape)\n",
    "print(\"Ukuran Fitur X_test:\", X_test.shape)\n",
    "print(\"Ukuran Label y_test:\", y_test.shape)\n",
    "\n"
   ]
  },
  {
   "cell_type": "markdown",
   "metadata": {},
   "source": [
    "Pada tahap ini saya membagi data menjadi dua bagian yakni 20% menjadi data test dan 80% sisanya menjadi data train. Karena pada dataset california ini bisa untuk klasifikasi maka saya melakukan pemisahan fitur x dan fitur y, untuk fitur y ini berada pada kolom house_price"
   ]
  },
  {
   "cell_type": "markdown",
   "metadata": {},
   "source": [
    "## 1B). LOOPING KOLOM UNTUK MELIHAT PLOT DISTRIBUSI"
   ]
  },
  {
   "cell_type": "code",
   "execution_count": 84,
   "metadata": {},
   "outputs": [],
   "source": [
    "import scipy.stats as stats\n",
    "def check_plot(df, variable):\n",
    "    \n",
    "    plt.figure(figsize=(16, 8))\n",
    "\n",
    "    # fungsi membuat histogram\n",
    "    plt.subplot(1, 3, 1)\n",
    "    sns.histplot(df[variable], bins=30)\n",
    "    plt.title('histogram')\n",
    "\n",
    "    # menampilkan plot Q-Q\n",
    "    plt.subplot(1, 3, 2)\n",
    "    stats.probplot(df[variable], dist=\"norm\", plot=plt)\n",
    "    plt.ylabel('Variable quantiles')\n",
    "\n",
    "    # menampilkan box plot\n",
    "    plt.subplot(1, 3, 3)\n",
    "    sns.boxplot(y=df[variable])\n",
    "    plt.title('Boxplot')\n",
    "\n",
    "    plt.show()"
   ]
  },
  {
   "cell_type": "code",
   "execution_count": 85,
   "metadata": {},
   "outputs": [
    {
     "data": {
      "image/png": "[encoded data removed]",
      "text/plain": [
       "<Figure size 1600x800 with 3 Axes>"
      ]
     },
     "metadata": {},
     "output_type": "display_data"
    },
    {
     "data": {
      "image/png": "[encoded data removed]",
      "text/plain": [
       "<Figure size 1600x800 with 3 Axes>"
      ]
     },
     "metadata": {},
     "output_type": "display_data"
    },
    {
     "data": {
      "image/png": "[encoded data removed]",
      "text/plain": [
       "<Figure size 1600x800 with 3 Axes>"
      ]
     },
     "metadata": {},
     "output_type": "display_data"
    },
    {
     "data": {
      "image/png": "[encoded data removed]",
      "text/plain": [
       "<Figure size 1600x800 with 3 Axes>"
      ]
     },
     "metadata": {},
     "output_type": "display_data"
    },
    {
     "data": {
      "image/png": "[encoded data removed]",
      "text/plain": [
       "<Figure size 1600x800 with 3 Axes>"
      ]
     },
     "metadata": {},
     "output_type": "display_data"
    }
   ],
   "source": [
    "kolom_kolom = ['MedInc', 'HouseAge', 'AveRooms', 'AveBedrms', 'AveOccup']\n",
    "for i in kolom_kolom:\n",
    "  check_plot(train_clfr, i)"
   ]
  },
  {
   "cell_type": "markdown",
   "metadata": {},
   "source": [
    "Berdasarkan output yang dihasilkan dapat di lihat pada boxplot terdapat kolom yang memiliki data outlier yakni kolom AveRooms, AveBedrms, dan AveOccup dimana pada kolom AveRooms memiliki 1 data outlier, kolom AveBedrms memiliki 3 data outlier dengan ada 2 data yang mengikuti pola sebelumnya namun jarak yang jauh sedangkan 1 data memiliki jarak yang sangat jauh. Untuk kolom AveOccup memiliki 4 data outlier\n",
    "\n",
    "Berdasarkan output setiap kolom memiliki distribusi yang berbeda-beda yakni :\n",
    "\n",
    "1. medlinc : Grafik histogram menunjukkan bahwa distribusi MedInc cenderung miring ke kanan yang artinya  lebih banyak data dengan nilai lebih kecil\n",
    "2. HouseAge : Grafik histogram menunujukkan bahwa  distribusi data cukup merata dengan beberapa puncak di usia tertentu. Ada banyak rumah dengan usia sekitar 50 tahun yang artinya banyak perumahan yang sudah tua\n",
    "3. Averooms : Grafik histogram menunujukkan bahwa  distribusi data condong ke kanan yang artinya sebagian besar rumah memiliki jumlah kamar yang kecil tetapi ada beberapa rumah dengan jumlah kamar yang jauh lebih tinggi (outlier)\n",
    "4. AveBedrms : Grafik histogram menunujukkan bahwa  distribusi data condong ke kanan dan beradasarkan probibilty plot banyak titik-titik menyimpang dari garis merah yang menunjukkan banyak data outlier\n",
    "5. AveOccup : Grafik histogram menunujukkan bahwa  distribusi data condong ke kanan dan beradasarkan probibilty plot banyak titik-titik menyimpang dari garis merah yang menunjukkan banyak data outlier\n",
    "\n"
   ]
  },
  {
   "cell_type": "markdown",
   "metadata": {},
   "source": [
    "## 1D). HANDLING OUTLIER DENGAN IQR PADA KOLOM YANG TERDETEKSI OUTLIER (KOLOM AveRooms, KOLOM AveBedrms dan Kolom AveOccup)"
   ]
  },
  {
   "cell_type": "code",
   "execution_count": 86,
   "metadata": {},
   "outputs": [],
   "source": [
    "def find_outlier_boundary(df, variable):\n",
    "    IQR = df[variable].quantile(0.75) - df[variable].quantile(0.25)\n",
    "\n",
    "    lower_boundary = df[variable].quantile(0.25) - (IQR * 1.5)\n",
    "    upper_boundary = df[variable].quantile(0.75) + (IQR * 1.5)\n",
    "\n",
    "    return upper_boundary, lower_boundary"
   ]
  },
  {
   "cell_type": "markdown",
   "metadata": {},
   "source": [
    "Untuk handling outlier menggunakan IQR di sini saya harus menghitung batas maksimal dan batas minimal terlebih dahulu,jika data yang melebihi batas tersebut di anggap outlier"
   ]
  },
  {
   "cell_type": "markdown",
   "metadata": {},
   "source": [
    "*KOLOM AveRooms*"
   ]
  },
  {
   "cell_type": "code",
   "execution_count": 87,
   "metadata": {},
   "outputs": [
    {
     "data": {
      "image/png": "[encoded data removed]",
      "text/plain": [
       "<Figure size 1600x800 with 3 Axes>"
      ]
     },
     "metadata": {},
     "output_type": "display_data"
    }
   ],
   "source": [
    "AveRooms_upper_limit, AveRooms_lower_limit = find_outlier_boundary(train_clfr, 'AveRooms')\n",
    "train_clfr['AveRooms']= np.where(train_clfr['AveRooms'] > AveRooms_upper_limit, AveRooms_upper_limit,\n",
    "                       np.where(train_clfr['AveRooms'] < AveRooms_lower_limit, AveRooms_lower_limit, train_clfr['AveRooms']))\n",
    "\n",
    "check_plot(train_clfr, 'AveRooms')"
   ]
  },
  {
   "cell_type": "markdown",
   "metadata": {},
   "source": [
    "Pada tahap ini saya menampilkan hasil handling outlier dengan menggunakan metode IQR, didapatkan hasil bahwa bentuk histogram sudah berdistribusi normal dan nilai ekstrem sudah lebih sedikit di bandingkan sebelumnya"
   ]
  },
  {
   "cell_type": "markdown",
   "metadata": {},
   "source": [
    "*KOLOM AveBedrms*"
   ]
  },
  {
   "cell_type": "code",
   "execution_count": 88,
   "metadata": {},
   "outputs": [
    {
     "data": {
      "image/png": "[encoded data removed]",
      "text/plain": [
       "<Figure size 1600x800 with 3 Axes>"
      ]
     },
     "metadata": {},
     "output_type": "display_data"
    }
   ],
   "source": [
    "AveBedrms_upper_limit, AveBedrms_lower_limit = find_outlier_boundary(train_clfr, 'AveBedrms')\n",
    "train_clfr['AveBedrms']= np.where(train_clfr['AveBedrms'] > AveBedrms_upper_limit, AveBedrms_upper_limit,\n",
    "                       np.where(train_clfr['AveBedrms'] < AveBedrms_lower_limit, AveBedrms_lower_limit, train_clfr['AveBedrms']))\n",
    "check_plot(train_clfr, 'AveBedrms')"
   ]
  },
  {
   "cell_type": "markdown",
   "metadata": {},
   "source": [
    "Pada tahap ini saya menampilkan hasil handling outlier dengan menggunakan metode IQR, didapatkan hasil bahwa bentuk histogram sudah berdistribusi normal dan mayoritas berada di antara 0.9 hingga 1.2 dengan nilai median sekitar 1.05 dan pada boxplot sudah tidak terlihat data outlier"
   ]
  },
  {
   "cell_type": "markdown",
   "metadata": {},
   "source": [
    "*KOLOM AveOccup*"
   ]
  },
  {
   "cell_type": "code",
   "execution_count": 89,
   "metadata": {},
   "outputs": [
    {
     "data": {
      "image/png": "[encoded data removed]",
      "text/plain": [
       "<Figure size 1600x800 with 3 Axes>"
      ]
     },
     "metadata": {},
     "output_type": "display_data"
    }
   ],
   "source": [
    "AveOccup_upper_limit, AveOccup_lower_limit = find_outlier_boundary(train_clfr, 'AveOccup')\n",
    "train_clfr['AveOccup']= np.where(train_clfr['AveOccup'] > AveOccup_upper_limit, AveOccup_upper_limit,\n",
    "                       np.where(train_clfr['AveOccup'] < AveOccup_lower_limit, AveOccup_lower_limit, train_clfr['AveOccup']))\n",
    "check_plot(train_clfr, 'AveOccup')"
   ]
  },
  {
   "cell_type": "markdown",
   "metadata": {},
   "source": [
    "Pada tahap ini saya menampilkan hasil handling outlier dengan menggunakan metode IQR, didapatkan hasil bahwa bentuk histogram sudah berdistribusi normal dan mayoritas berada di antara 2 hingga 3.5 dengan nilai median sekitar 2.8 - 3 dan pada boxplot sudah tidak terlihat data outlier"
   ]
  },
  {
   "cell_type": "markdown",
   "metadata": {},
   "source": [
    "## SOAL NOMOR 2"
   ]
  },
  {
   "cell_type": "markdown",
   "metadata": {},
   "source": [
    "## 2A). SPLITTING DATASET"
   ]
  },
  {
   "cell_type": "code",
   "execution_count": 90,
   "metadata": {},
   "outputs": [
    {
     "data": {
      "text/html": [
       "<div>\n",
       "<style scoped>\n",
       "    .dataframe tbody tr th:only-of-type {\n",
       "        vertical-align: middle;\n",
       "    }\n",
       "\n",
       "    .dataframe tbody tr th {\n",
       "        vertical-align: top;\n",
       "    }\n",
       "\n",
       "    .dataframe thead th {\n",
       "        text-align: right;\n",
       "    }\n",
       "</style>\n",
       "<table border=\"1\" class=\"dataframe\">\n",
       "  <thead>\n",
       "    <tr style=\"text-align: right;\">\n",
       "      <th></th>\n",
       "      <th>Revenue</th>\n",
       "      <th>Size</th>\n",
       "      <th>Rating</th>\n",
       "      <th>Headquarters</th>\n",
       "    </tr>\n",
       "  </thead>\n",
       "  <tbody>\n",
       "    <tr>\n",
       "      <th>0</th>\n",
       "      <td>Unknown / Non-Applicable</td>\n",
       "      <td>1001 to 5000 employees</td>\n",
       "      <td>3.1</td>\n",
       "      <td>New York, NY</td>\n",
       "    </tr>\n",
       "    <tr>\n",
       "      <th>1</th>\n",
       "      <td>$1 to $2 billion (USD)</td>\n",
       "      <td>5001 to 10000 employees</td>\n",
       "      <td>4.2</td>\n",
       "      <td>Herndon, VA</td>\n",
       "    </tr>\n",
       "    <tr>\n",
       "      <th>2</th>\n",
       "      <td>$100 to $500 million (USD)</td>\n",
       "      <td>1001 to 5000 employees</td>\n",
       "      <td>3.8</td>\n",
       "      <td>Boston, MA</td>\n",
       "    </tr>\n",
       "    <tr>\n",
       "      <th>3</th>\n",
       "      <td>$100 to $500 million (USD)</td>\n",
       "      <td>501 to 1000 employees</td>\n",
       "      <td>3.5</td>\n",
       "      <td>Bad Ragaz, Switzerland</td>\n",
       "    </tr>\n",
       "    <tr>\n",
       "      <th>4</th>\n",
       "      <td>Unknown / Non-Applicable</td>\n",
       "      <td>51 to 200 employees</td>\n",
       "      <td>2.9</td>\n",
       "      <td>New York, NY</td>\n",
       "    </tr>\n",
       "  </tbody>\n",
       "</table>\n",
       "</div>"
      ],
      "text/plain": [
       "                      Revenue                     Size  Rating  \\\n",
       "0    Unknown / Non-Applicable   1001 to 5000 employees     3.1   \n",
       "1      $1 to $2 billion (USD)  5001 to 10000 employees     4.2   \n",
       "2  $100 to $500 million (USD)   1001 to 5000 employees     3.8   \n",
       "3  $100 to $500 million (USD)    501 to 1000 employees     3.5   \n",
       "4    Unknown / Non-Applicable      51 to 200 employees     2.9   \n",
       "\n",
       "             Headquarters  \n",
       "0            New York, NY  \n",
       "1             Herndon, VA  \n",
       "2              Boston, MA  \n",
       "3  Bad Ragaz, Switzerland  \n",
       "4            New York, NY  "
      ]
     },
     "execution_count": 90,
     "metadata": {},
     "output_type": "execute_result"
    }
   ],
   "source": [
    "df_company = pd.read_csv('company.csv')\n",
    "df_company.head()"
   ]
  },
  {
   "cell_type": "code",
   "execution_count": 91,
   "metadata": {},
   "outputs": [
    {
     "data": {
      "text/plain": [
       "Revenue         0\n",
       "Size            0\n",
       "Rating          0\n",
       "Headquarters    0\n",
       "dtype: int64"
      ]
     },
     "execution_count": 91,
     "metadata": {},
     "output_type": "execute_result"
    }
   ],
   "source": [
    "df_company.isna().sum()"
   ]
  },
  {
   "cell_type": "markdown",
   "metadata": {},
   "source": [
    "Pada tahap ini saya menampilkan apakah ada data yang bernilai kosong dan didapatkan output bahwa tidak ada data yang bernilai kosong atau na"
   ]
  },
  {
   "cell_type": "code",
   "execution_count": 92,
   "metadata": {},
   "outputs": [
    {
     "name": "stdout",
     "output_type": "stream",
     "text": [
      "============= Revenue =================\n"
     ]
    },
    {
     "data": {
      "text/plain": [
       "Revenue\n",
       "Unknown / Non-Applicable            213\n",
       "$100 to $500 million (USD)           94\n",
       "$10+ billion (USD)                   63\n",
       "$2 to $5 billion (USD)               45\n",
       "$10 to $25 million (USD)             41\n",
       "$1 to $2 billion (USD)               36\n",
       "$25 to $50 million (USD)             36\n",
       "$50 to $100 million (USD)            31\n",
       "$1 to $5 million (USD)               31\n",
       "-1                                   27\n",
       "$500 million to $1 billion (USD)     19\n",
       "$5 to $10 million (USD)              14\n",
       "Less than $1 million (USD)           14\n",
       "$5 to $10 billion (USD)               8\n",
       "Name: count, dtype: int64"
      ]
     },
     "metadata": {},
     "output_type": "display_data"
    },
    {
     "name": "stdout",
     "output_type": "stream",
     "text": [
      "\n",
      "============= Size =================\n"
     ]
    },
    {
     "data": {
      "text/plain": [
       "Size\n",
       "51 to 200 employees        135\n",
       "1001 to 5000 employees     104\n",
       "1 to 50 employees           86\n",
       "201 to 500 employees        85\n",
       "10000+ employees            80\n",
       "501 to 1000 employees       77\n",
       "5001 to 10000 employees     61\n",
       "-1                          27\n",
       "Unknown                     17\n",
       "Name: count, dtype: int64"
      ]
     },
     "metadata": {},
     "output_type": "display_data"
    },
    {
     "name": "stdout",
     "output_type": "stream",
     "text": [
      "\n",
      "============= Rating =================\n"
     ]
    },
    {
     "data": {
      "text/plain": [
       "Rating\n",
       " 3.5    58\n",
       "-1.0    50\n",
       " 4.0    41\n",
       " 3.3    41\n",
       " 3.9    40\n",
       " 3.8    39\n",
       " 3.7    38\n",
       " 5.0    36\n",
       " 4.5    32\n",
       " 3.6    31\n",
       " 3.4    31\n",
       " 4.2    29\n",
       " 4.1    25\n",
       " 4.4    24\n",
       " 4.7    22\n",
       " 3.2    21\n",
       " 4.8    20\n",
       " 4.3    14\n",
       " 2.9    14\n",
       " 4.6    12\n",
       " 3.1    12\n",
       " 4.9    11\n",
       " 2.7    10\n",
       " 3.0     7\n",
       " 2.6     4\n",
       " 2.8     3\n",
       " 2.5     2\n",
       " 2.2     1\n",
       " 2.4     1\n",
       " 2.3     1\n",
       " 2.1     1\n",
       " 2.0     1\n",
       "Name: count, dtype: int64"
      ]
     },
     "metadata": {},
     "output_type": "display_data"
    },
    {
     "name": "stdout",
     "output_type": "stream",
     "text": [
      "\n",
      "============= Headquarters =================\n"
     ]
    },
    {
     "data": {
      "text/plain": [
       "Headquarters\n",
       "New York, NY         33\n",
       "-1                   31\n",
       "San Francisco, CA    31\n",
       "Chicago, IL          23\n",
       "Boston, MA           19\n",
       "                     ..\n",
       "Irving, TX            1\n",
       "Scottsdale, AZ        1\n",
       "Greensboro, NC        1\n",
       "Newark, CA            1\n",
       "Fort Lee, NJ          1\n",
       "Name: count, Length: 229, dtype: int64"
      ]
     },
     "metadata": {},
     "output_type": "display_data"
    },
    {
     "name": "stdout",
     "output_type": "stream",
     "text": [
      "\n"
     ]
    }
   ],
   "source": [
    "for column in df_company.columns:\n",
    "    print(f\"============= {column} =================\")\n",
    "    display(df_company[column].value_counts())\n",
    "    print()"
   ]
  },
  {
   "cell_type": "code",
   "execution_count": 93,
   "metadata": {},
   "outputs": [],
   "source": [
    "# from sklearn.model_selection import train_test_splits\n",
    "\n",
    "train_company, test_company = train_test_split(df_company, test_size= 0.2, random_state=42)\n"
   ]
  },
  {
   "cell_type": "markdown",
   "metadata": {},
   "source": [
    "Pada tahap ini dilakukan splitting data, di sini saya membaginya 20% data tes dan 80% lainya untuk data train"
   ]
  },
  {
   "cell_type": "markdown",
   "metadata": {},
   "source": [
    "*2B). Cek presentase missing value kolom Headquaters*"
   ]
  },
  {
   "cell_type": "code",
   "execution_count": 94,
   "metadata": {},
   "outputs": [
    {
     "name": "stdout",
     "output_type": "stream",
     "text": [
      "Persentase missing value di kolom Headquarters data train: 4.47%\n",
      "Persentase missing value di kolom Headquarters data test: 5.19%\n"
     ]
    }
   ],
   "source": [
    "def check_missing_percentage(df, label):\n",
    "    missing_count = df[\"Headquarters\"].eq(\"-1\").sum()\n",
    "    missing_percentage = (missing_count / len(df)) * 100\n",
    "    print(f\"Persentase missing value di kolom Headquarters {label}: {missing_percentage:.2f}%\")\n",
    "\n",
    "# Mengecek persentase missing value pada kolom Headquarters data train dan test\n",
    "for dataset, label in zip([train_company, test_company], [\"data train\", \"data test\"]):\n",
    "    check_missing_percentage(dataset, label)"
   ]
  },
  {
   "cell_type": "markdown",
   "metadata": {},
   "source": [
    "missing values pada kolom headquaters yang didapatkan yakni hanya 4.47% pada data train dan 5.19% di data test, karena nilai ini tidak melebihi 20% maka kolom ini tidak akan di drop melainkan akan dilakukan handling missing value"
   ]
  },
  {
   "cell_type": "markdown",
   "metadata": {},
   "source": [
    "*2C). HANDLING MISSING VALUE KOLOM HEADQUATERS*"
   ]
  },
  {
   "cell_type": "code",
   "execution_count": 95,
   "metadata": {},
   "outputs": [
    {
     "data": {
      "text/plain": [
       "'New York, NY'"
      ]
     },
     "execution_count": 95,
     "metadata": {},
     "output_type": "execute_result"
    }
   ],
   "source": [
    "train_mode_Headquaters = train_company[~train_company['Headquarters'].isin(['-1'])]['Headquarters'].mode()[0]\n",
    "train_mode_Headquaters"
   ]
  },
  {
   "cell_type": "markdown",
   "metadata": {},
   "source": [
    "Melakukan handling missing values. Pada kolom headquaters bukan kolom numerik melainkan kolom beriiskan data teks, maka di sini saya handling outlier dengan menggunakan modus"
   ]
  },
  {
   "cell_type": "code",
   "execution_count": 96,
   "metadata": {},
   "outputs": [],
   "source": [
    "train_company['Headquarters'] = train_company['Headquarters'].apply(lambda x: train_mode_Headquaters if x in ['-1'] else x)\n",
    "test_company['Headquarters'] = test_company['Headquarters'].apply(lambda x: train_mode_Headquaters if x in ['-1'] else x)"
   ]
  },
  {
   "cell_type": "markdown",
   "metadata": {},
   "source": [
    "Pada tahap diatas ini kita akan mengisi nilai hilang atau yang tidak valid ke dalam kolom headquarters dalam dataset train_company dan test_company dengan nilai modus dari data train"
   ]
  },
  {
   "cell_type": "markdown",
   "metadata": {},
   "source": [
    "## NOMOR 3 "
   ]
  },
  {
   "cell_type": "code",
   "execution_count": 97,
   "metadata": {},
   "outputs": [
    {
     "name": "stderr",
     "output_type": "stream",
     "text": [
      "C:\\Users\\nimaa\\AppData\\Local\\Temp\\ipykernel_5176\\1901417580.py:2: FutureWarning: Downcasting behavior in `replace` is deprecated and will be removed in a future version. To retain the old behavior, explicitly call `result.infer_objects(copy=False)`. To opt-in to the future behavior, set `pd.set_option('future.no_silent_downcasting', True)`\n",
      "  df_churn['Churn'] = df_churn['Churn'].replace({'Yes': 1, 'No': 0})\n"
     ]
    },
    {
     "data": {
      "text/html": [
       "<div>\n",
       "<style scoped>\n",
       "    .dataframe tbody tr th:only-of-type {\n",
       "        vertical-align: middle;\n",
       "    }\n",
       "\n",
       "    .dataframe tbody tr th {\n",
       "        vertical-align: top;\n",
       "    }\n",
       "\n",
       "    .dataframe thead th {\n",
       "        text-align: right;\n",
       "    }\n",
       "</style>\n",
       "<table border=\"1\" class=\"dataframe\">\n",
       "  <thead>\n",
       "    <tr style=\"text-align: right;\">\n",
       "      <th></th>\n",
       "      <th>customerID</th>\n",
       "      <th>gender</th>\n",
       "      <th>SeniorCitizen</th>\n",
       "      <th>Partner</th>\n",
       "      <th>Dependents</th>\n",
       "      <th>tenure</th>\n",
       "      <th>PhoneService</th>\n",
       "      <th>MultipleLines</th>\n",
       "      <th>InternetService</th>\n",
       "      <th>OnlineSecurity</th>\n",
       "      <th>...</th>\n",
       "      <th>DeviceProtection</th>\n",
       "      <th>TechSupport</th>\n",
       "      <th>StreamingTV</th>\n",
       "      <th>StreamingMovies</th>\n",
       "      <th>Contract</th>\n",
       "      <th>PaperlessBilling</th>\n",
       "      <th>PaymentMethod</th>\n",
       "      <th>MonthlyCharges</th>\n",
       "      <th>TotalCharges</th>\n",
       "      <th>Churn</th>\n",
       "    </tr>\n",
       "  </thead>\n",
       "  <tbody>\n",
       "    <tr>\n",
       "      <th>0</th>\n",
       "      <td>7590-VHVEG</td>\n",
       "      <td>Female</td>\n",
       "      <td>0</td>\n",
       "      <td>Yes</td>\n",
       "      <td>No</td>\n",
       "      <td>1</td>\n",
       "      <td>No</td>\n",
       "      <td>No phone service</td>\n",
       "      <td>DSL</td>\n",
       "      <td>No</td>\n",
       "      <td>...</td>\n",
       "      <td>No</td>\n",
       "      <td>No</td>\n",
       "      <td>No</td>\n",
       "      <td>No</td>\n",
       "      <td>Month-to-month</td>\n",
       "      <td>Yes</td>\n",
       "      <td>Electronic check</td>\n",
       "      <td>29.85</td>\n",
       "      <td>29.85</td>\n",
       "      <td>0</td>\n",
       "    </tr>\n",
       "    <tr>\n",
       "      <th>1</th>\n",
       "      <td>5575-GNVDE</td>\n",
       "      <td>Male</td>\n",
       "      <td>0</td>\n",
       "      <td>No</td>\n",
       "      <td>No</td>\n",
       "      <td>34</td>\n",
       "      <td>Yes</td>\n",
       "      <td>No</td>\n",
       "      <td>DSL</td>\n",
       "      <td>Yes</td>\n",
       "      <td>...</td>\n",
       "      <td>Yes</td>\n",
       "      <td>No</td>\n",
       "      <td>No</td>\n",
       "      <td>No</td>\n",
       "      <td>One year</td>\n",
       "      <td>No</td>\n",
       "      <td>Mailed check</td>\n",
       "      <td>56.95</td>\n",
       "      <td>1889.5</td>\n",
       "      <td>0</td>\n",
       "    </tr>\n",
       "    <tr>\n",
       "      <th>2</th>\n",
       "      <td>3668-QPYBK</td>\n",
       "      <td>Male</td>\n",
       "      <td>0</td>\n",
       "      <td>No</td>\n",
       "      <td>No</td>\n",
       "      <td>2</td>\n",
       "      <td>Yes</td>\n",
       "      <td>No</td>\n",
       "      <td>DSL</td>\n",
       "      <td>Yes</td>\n",
       "      <td>...</td>\n",
       "      <td>No</td>\n",
       "      <td>No</td>\n",
       "      <td>No</td>\n",
       "      <td>No</td>\n",
       "      <td>Month-to-month</td>\n",
       "      <td>Yes</td>\n",
       "      <td>Mailed check</td>\n",
       "      <td>53.85</td>\n",
       "      <td>108.15</td>\n",
       "      <td>1</td>\n",
       "    </tr>\n",
       "    <tr>\n",
       "      <th>3</th>\n",
       "      <td>7795-CFOCW</td>\n",
       "      <td>Male</td>\n",
       "      <td>0</td>\n",
       "      <td>No</td>\n",
       "      <td>No</td>\n",
       "      <td>45</td>\n",
       "      <td>No</td>\n",
       "      <td>No phone service</td>\n",
       "      <td>DSL</td>\n",
       "      <td>Yes</td>\n",
       "      <td>...</td>\n",
       "      <td>Yes</td>\n",
       "      <td>Yes</td>\n",
       "      <td>No</td>\n",
       "      <td>No</td>\n",
       "      <td>One year</td>\n",
       "      <td>No</td>\n",
       "      <td>Bank transfer (automatic)</td>\n",
       "      <td>42.30</td>\n",
       "      <td>1840.75</td>\n",
       "      <td>0</td>\n",
       "    </tr>\n",
       "    <tr>\n",
       "      <th>4</th>\n",
       "      <td>9237-HQITU</td>\n",
       "      <td>Female</td>\n",
       "      <td>0</td>\n",
       "      <td>No</td>\n",
       "      <td>No</td>\n",
       "      <td>2</td>\n",
       "      <td>Yes</td>\n",
       "      <td>No</td>\n",
       "      <td>Fiber optic</td>\n",
       "      <td>No</td>\n",
       "      <td>...</td>\n",
       "      <td>No</td>\n",
       "      <td>No</td>\n",
       "      <td>No</td>\n",
       "      <td>No</td>\n",
       "      <td>Month-to-month</td>\n",
       "      <td>Yes</td>\n",
       "      <td>Electronic check</td>\n",
       "      <td>70.70</td>\n",
       "      <td>151.65</td>\n",
       "      <td>1</td>\n",
       "    </tr>\n",
       "  </tbody>\n",
       "</table>\n",
       "<p>5 rows × 21 columns</p>\n",
       "</div>"
      ],
      "text/plain": [
       "   customerID  gender  SeniorCitizen Partner Dependents  tenure PhoneService  \\\n",
       "0  7590-VHVEG  Female              0     Yes         No       1           No   \n",
       "1  5575-GNVDE    Male              0      No         No      34          Yes   \n",
       "2  3668-QPYBK    Male              0      No         No       2          Yes   \n",
       "3  7795-CFOCW    Male              0      No         No      45           No   \n",
       "4  9237-HQITU  Female              0      No         No       2          Yes   \n",
       "\n",
       "      MultipleLines InternetService OnlineSecurity  ... DeviceProtection  \\\n",
       "0  No phone service             DSL             No  ...               No   \n",
       "1                No             DSL            Yes  ...              Yes   \n",
       "2                No             DSL            Yes  ...               No   \n",
       "3  No phone service             DSL            Yes  ...              Yes   \n",
       "4                No     Fiber optic             No  ...               No   \n",
       "\n",
       "  TechSupport StreamingTV StreamingMovies        Contract PaperlessBilling  \\\n",
       "0          No          No              No  Month-to-month              Yes   \n",
       "1          No          No              No        One year               No   \n",
       "2          No          No              No  Month-to-month              Yes   \n",
       "3         Yes          No              No        One year               No   \n",
       "4          No          No              No  Month-to-month              Yes   \n",
       "\n",
       "               PaymentMethod MonthlyCharges  TotalCharges Churn  \n",
       "0           Electronic check          29.85         29.85     0  \n",
       "1               Mailed check          56.95        1889.5     0  \n",
       "2               Mailed check          53.85        108.15     1  \n",
       "3  Bank transfer (automatic)          42.30       1840.75     0  \n",
       "4           Electronic check          70.70        151.65     1  \n",
       "\n",
       "[5 rows x 21 columns]"
      ]
     },
     "execution_count": 97,
     "metadata": {},
     "output_type": "execute_result"
    }
   ],
   "source": [
    "df_churn = pd.read_csv('Telco-Customer-Churn.csv')\n",
    "df_churn['Churn'] = df_churn['Churn'].replace({'Yes': 1, 'No': 0})\n",
    "df_churn.head()"
   ]
  },
  {
   "cell_type": "markdown",
   "metadata": {},
   "source": [
    "Pada tahap ini saya mengganti data yang berisikan kata yes menjadi 1 dan no menjadi 0 pada kolom churn karena pada analisis lanjutan saya menggunakan kolom churn untuk handling value pada soal 3E, karena untuk mean encoding data yang digunakan harus berupa numerik"
   ]
  },
  {
   "cell_type": "code",
   "execution_count": 98,
   "metadata": {},
   "outputs": [
    {
     "name": "stdout",
     "output_type": "stream",
     "text": [
      "<class 'pandas.core.frame.DataFrame'>\n",
      "RangeIndex: 7043 entries, 0 to 7042\n",
      "Data columns (total 21 columns):\n",
      " #   Column            Non-Null Count  Dtype  \n",
      "---  ------            --------------  -----  \n",
      " 0   customerID        7043 non-null   object \n",
      " 1   gender            7043 non-null   object \n",
      " 2   SeniorCitizen     7043 non-null   int64  \n",
      " 3   Partner           7043 non-null   object \n",
      " 4   Dependents        7043 non-null   object \n",
      " 5   tenure            7043 non-null   int64  \n",
      " 6   PhoneService      7043 non-null   object \n",
      " 7   MultipleLines     7043 non-null   object \n",
      " 8   InternetService   7043 non-null   object \n",
      " 9   OnlineSecurity    7043 non-null   object \n",
      " 10  OnlineBackup      7043 non-null   object \n",
      " 11  DeviceProtection  7043 non-null   object \n",
      " 12  TechSupport       7043 non-null   object \n",
      " 13  StreamingTV       7043 non-null   object \n",
      " 14  StreamingMovies   7043 non-null   object \n",
      " 15  Contract          7043 non-null   object \n",
      " 16  PaperlessBilling  7043 non-null   object \n",
      " 17  PaymentMethod     7043 non-null   object \n",
      " 18  MonthlyCharges    7043 non-null   float64\n",
      " 19  TotalCharges      7043 non-null   object \n",
      " 20  Churn             7043 non-null   int64  \n",
      "dtypes: float64(1), int64(3), object(17)\n",
      "memory usage: 1.1+ MB\n"
     ]
    }
   ],
   "source": [
    "df_churn.info()"
   ]
  },
  {
   "cell_type": "markdown",
   "metadata": {},
   "source": [
    "saya menampilkan informasi data, berdasarkan output diatas yang dihasilkan tidak ada yang null"
   ]
  },
  {
   "cell_type": "code",
   "execution_count": 99,
   "metadata": {},
   "outputs": [
    {
     "name": "stdout",
     "output_type": "stream",
     "text": [
      "============= gender =================\n"
     ]
    },
    {
     "data": {
      "text/plain": [
       "gender\n",
       "Male      3555\n",
       "Female    3488\n",
       "Name: count, dtype: int64"
      ]
     },
     "metadata": {},
     "output_type": "display_data"
    },
    {
     "name": "stdout",
     "output_type": "stream",
     "text": [
      "\n",
      "============= Partner =================\n"
     ]
    },
    {
     "data": {
      "text/plain": [
       "Partner\n",
       "No     3641\n",
       "Yes    3402\n",
       "Name: count, dtype: int64"
      ]
     },
     "metadata": {},
     "output_type": "display_data"
    },
    {
     "name": "stdout",
     "output_type": "stream",
     "text": [
      "\n",
      "============= Dependents =================\n"
     ]
    },
    {
     "data": {
      "text/plain": [
       "Dependents\n",
       "No     4933\n",
       "Yes    2110\n",
       "Name: count, dtype: int64"
      ]
     },
     "metadata": {},
     "output_type": "display_data"
    },
    {
     "name": "stdout",
     "output_type": "stream",
     "text": [
      "\n",
      "============= PhoneService =================\n"
     ]
    },
    {
     "data": {
      "text/plain": [
       "PhoneService\n",
       "Yes    6361\n",
       "No      682\n",
       "Name: count, dtype: int64"
      ]
     },
     "metadata": {},
     "output_type": "display_data"
    },
    {
     "name": "stdout",
     "output_type": "stream",
     "text": [
      "\n",
      "============= MultipleLines =================\n"
     ]
    },
    {
     "data": {
      "text/plain": [
       "MultipleLines\n",
       "No                  3390\n",
       "Yes                 2971\n",
       "No phone service     682\n",
       "Name: count, dtype: int64"
      ]
     },
     "metadata": {},
     "output_type": "display_data"
    },
    {
     "name": "stdout",
     "output_type": "stream",
     "text": [
      "\n",
      "============= InternetService =================\n"
     ]
    },
    {
     "data": {
      "text/plain": [
       "InternetService\n",
       "Fiber optic    3096\n",
       "DSL            2421\n",
       "No             1526\n",
       "Name: count, dtype: int64"
      ]
     },
     "metadata": {},
     "output_type": "display_data"
    },
    {
     "name": "stdout",
     "output_type": "stream",
     "text": [
      "\n",
      "============= OnlineSecurity =================\n"
     ]
    },
    {
     "data": {
      "text/plain": [
       "OnlineSecurity\n",
       "No                     3498\n",
       "Yes                    2019\n",
       "No internet service    1526\n",
       "Name: count, dtype: int64"
      ]
     },
     "metadata": {},
     "output_type": "display_data"
    },
    {
     "name": "stdout",
     "output_type": "stream",
     "text": [
      "\n",
      "============= OnlineBackup =================\n"
     ]
    },
    {
     "data": {
      "text/plain": [
       "OnlineBackup\n",
       "No                     3088\n",
       "Yes                    2429\n",
       "No internet service    1526\n",
       "Name: count, dtype: int64"
      ]
     },
     "metadata": {},
     "output_type": "display_data"
    },
    {
     "name": "stdout",
     "output_type": "stream",
     "text": [
      "\n",
      "============= DeviceProtection =================\n"
     ]
    },
    {
     "data": {
      "text/plain": [
       "DeviceProtection\n",
       "No                     3095\n",
       "Yes                    2422\n",
       "No internet service    1526\n",
       "Name: count, dtype: int64"
      ]
     },
     "metadata": {},
     "output_type": "display_data"
    },
    {
     "name": "stdout",
     "output_type": "stream",
     "text": [
      "\n",
      "============= TechSupport =================\n"
     ]
    },
    {
     "data": {
      "text/plain": [
       "TechSupport\n",
       "No                     3473\n",
       "Yes                    2044\n",
       "No internet service    1526\n",
       "Name: count, dtype: int64"
      ]
     },
     "metadata": {},
     "output_type": "display_data"
    },
    {
     "name": "stdout",
     "output_type": "stream",
     "text": [
      "\n",
      "============= StreamingTV =================\n"
     ]
    },
    {
     "data": {
      "text/plain": [
       "StreamingTV\n",
       "No                     2810\n",
       "Yes                    2707\n",
       "No internet service    1526\n",
       "Name: count, dtype: int64"
      ]
     },
     "metadata": {},
     "output_type": "display_data"
    },
    {
     "name": "stdout",
     "output_type": "stream",
     "text": [
      "\n",
      "============= StreamingMovies =================\n"
     ]
    },
    {
     "data": {
      "text/plain": [
       "StreamingMovies\n",
       "No                     2785\n",
       "Yes                    2732\n",
       "No internet service    1526\n",
       "Name: count, dtype: int64"
      ]
     },
     "metadata": {},
     "output_type": "display_data"
    },
    {
     "name": "stdout",
     "output_type": "stream",
     "text": [
      "\n",
      "============= Contract =================\n"
     ]
    },
    {
     "data": {
      "text/plain": [
       "Contract\n",
       "Month-to-month    3875\n",
       "Two year          1695\n",
       "One year          1473\n",
       "Name: count, dtype: int64"
      ]
     },
     "metadata": {},
     "output_type": "display_data"
    },
    {
     "name": "stdout",
     "output_type": "stream",
     "text": [
      "\n",
      "============= PaperlessBilling =================\n"
     ]
    },
    {
     "data": {
      "text/plain": [
       "PaperlessBilling\n",
       "Yes    4171\n",
       "No     2872\n",
       "Name: count, dtype: int64"
      ]
     },
     "metadata": {},
     "output_type": "display_data"
    },
    {
     "name": "stdout",
     "output_type": "stream",
     "text": [
      "\n",
      "============= PaymentMethod =================\n"
     ]
    },
    {
     "data": {
      "text/plain": [
       "PaymentMethod\n",
       "Electronic check             2365\n",
       "Mailed check                 1612\n",
       "Bank transfer (automatic)    1544\n",
       "Credit card (automatic)      1522\n",
       "Name: count, dtype: int64"
      ]
     },
     "metadata": {},
     "output_type": "display_data"
    },
    {
     "name": "stdout",
     "output_type": "stream",
     "text": [
      "\n",
      "============= Churn =================\n"
     ]
    },
    {
     "data": {
      "text/plain": [
       "Churn\n",
       "0    5174\n",
       "1    1869\n",
       "Name: count, dtype: int64"
      ]
     },
     "metadata": {},
     "output_type": "display_data"
    },
    {
     "name": "stdout",
     "output_type": "stream",
     "text": [
      "\n"
     ]
    }
   ],
   "source": [
    "custom_columns = ['gender','Partner','Dependents','PhoneService','MultipleLines',\n",
    "                  'InternetService','OnlineSecurity','OnlineBackup','DeviceProtection'\n",
    "                  ,'TechSupport','StreamingTV','StreamingMovies','Contract','PaperlessBilling','PaymentMethod','Churn']\n",
    "for column in custom_columns:\n",
    "    print(f\"============= {column} =================\")\n",
    "    display(df_churn[column].value_counts())\n",
    "    print()"
   ]
  },
  {
   "cell_type": "markdown",
   "metadata": {},
   "source": [
    "Pada tahap ini saya menampilkan isi data pada setiap kolom, untuk merincikan isi dari setiap kolom,didapatkan bahwa ada beberapa kolom yang memiliki 3 kategori selain kategori yes dan no melainkan kategori lain ini memiliki makna yang sama dengan makna kategori no. Kolom ini yakni terdiri dari kolom :\n",
    "1. StreamingMovies \n",
    "No = 2785\n",
    "Yes = 2732\n",
    "No internet service = 1526\n",
    "\n",
    "2. StreamingTV\n",
    "No = 2810\n",
    "Yes = 2707\n",
    "No internet service = 1526\n",
    "\n",
    "3. Techsupport\n",
    "No = 3473\n",
    "Yes = 2044\n",
    "No internet service = 1526\n",
    "\n",
    "4. DeviceProtection \n",
    "No = 3095\n",
    "Yes = 2422\n",
    "No internet service = 1526\n",
    "\n",
    "5. OnlineBackup\n",
    "No = 3088\n",
    "Yes = 2429\n",
    "No internet service = 1526\n",
    "\n",
    "6. OnlineSecurity\n",
    "No = 3498\n",
    "Yes = 2019\n",
    "No internet service = 1526\n",
    "\n",
    "7. MultipleLines\n",
    "No                  3390\n",
    "Yes                 2971\n",
    "No phone service     682"
   ]
  },
  {
   "cell_type": "markdown",
   "metadata": {},
   "source": [
    "## 3B). MEMILIH KOLOM StreamingMovies, StreamingTV, TechSupport,DeviceProtection, OnlineBackup, OnlineSecurity, MultipleLines untuk dilakukan standarisasi"
   ]
  },
  {
   "cell_type": "code",
   "execution_count": 100,
   "metadata": {},
   "outputs": [],
   "source": [
    "df_churn['StreamingMovies'] = df_churn['StreamingMovies'].replace({'No internet service':'No'})\n",
    "df_churn['StreamingTV'] = df_churn['StreamingTV'].replace({'No internet service':'No'})\n",
    "df_churn['TechSupport'] = df_churn['TechSupport'].replace({'No internet service':'No'})\n",
    "df_churn['DeviceProtection'] = df_churn['DeviceProtection'].replace({'No internet service':'No'})\n",
    "df_churn['OnlineBackup'] = df_churn['OnlineBackup'].replace({'No internet service':'No'})\n",
    "df_churn['OnlineSecurity'] = df_churn['OnlineSecurity'].replace({'No internet service':'No'})\n",
    "df_churn['MultipleLines'] = df_churn['MultipleLines'].replace({'No phone service':'No'})"
   ]
  },
  {
   "cell_type": "markdown",
   "metadata": {},
   "source": [
    "Karena 7 kolom tersebut memiliki nilai selain yes dan no namun nilai lainya memiliki makna yang serupa dengan no. Sebelum dilakukan perubahan di sini saya melakukan standarisasi dengan merubah kategori lain selain no tapi memiliki makna yang sama dengan no di rubah menjadi no"
   ]
  },
  {
   "cell_type": "code",
   "execution_count": 101,
   "metadata": {},
   "outputs": [
    {
     "name": "stdout",
     "output_type": "stream",
     "text": [
      "============= gender =================\n"
     ]
    },
    {
     "data": {
      "text/plain": [
       "gender\n",
       "Male      3555\n",
       "Female    3488\n",
       "Name: count, dtype: int64"
      ]
     },
     "metadata": {},
     "output_type": "display_data"
    },
    {
     "name": "stdout",
     "output_type": "stream",
     "text": [
      "\n",
      "============= Partner =================\n"
     ]
    },
    {
     "data": {
      "text/plain": [
       "Partner\n",
       "No     3641\n",
       "Yes    3402\n",
       "Name: count, dtype: int64"
      ]
     },
     "metadata": {},
     "output_type": "display_data"
    },
    {
     "name": "stdout",
     "output_type": "stream",
     "text": [
      "\n",
      "============= Dependents =================\n"
     ]
    },
    {
     "data": {
      "text/plain": [
       "Dependents\n",
       "No     4933\n",
       "Yes    2110\n",
       "Name: count, dtype: int64"
      ]
     },
     "metadata": {},
     "output_type": "display_data"
    },
    {
     "name": "stdout",
     "output_type": "stream",
     "text": [
      "\n",
      "============= PhoneService =================\n"
     ]
    },
    {
     "data": {
      "text/plain": [
       "PhoneService\n",
       "Yes    6361\n",
       "No      682\n",
       "Name: count, dtype: int64"
      ]
     },
     "metadata": {},
     "output_type": "display_data"
    },
    {
     "name": "stdout",
     "output_type": "stream",
     "text": [
      "\n",
      "============= MultipleLines =================\n"
     ]
    },
    {
     "data": {
      "text/plain": [
       "MultipleLines\n",
       "No     4072\n",
       "Yes    2971\n",
       "Name: count, dtype: int64"
      ]
     },
     "metadata": {},
     "output_type": "display_data"
    },
    {
     "name": "stdout",
     "output_type": "stream",
     "text": [
      "\n",
      "============= InternetService =================\n"
     ]
    },
    {
     "data": {
      "text/plain": [
       "InternetService\n",
       "Fiber optic    3096\n",
       "DSL            2421\n",
       "No             1526\n",
       "Name: count, dtype: int64"
      ]
     },
     "metadata": {},
     "output_type": "display_data"
    },
    {
     "name": "stdout",
     "output_type": "stream",
     "text": [
      "\n",
      "============= OnlineSecurity =================\n"
     ]
    },
    {
     "data": {
      "text/plain": [
       "OnlineSecurity\n",
       "No     5024\n",
       "Yes    2019\n",
       "Name: count, dtype: int64"
      ]
     },
     "metadata": {},
     "output_type": "display_data"
    },
    {
     "name": "stdout",
     "output_type": "stream",
     "text": [
      "\n",
      "============= OnlineBackup =================\n"
     ]
    },
    {
     "data": {
      "text/plain": [
       "OnlineBackup\n",
       "No     4614\n",
       "Yes    2429\n",
       "Name: count, dtype: int64"
      ]
     },
     "metadata": {},
     "output_type": "display_data"
    },
    {
     "name": "stdout",
     "output_type": "stream",
     "text": [
      "\n",
      "============= DeviceProtection =================\n"
     ]
    },
    {
     "data": {
      "text/plain": [
       "DeviceProtection\n",
       "No     4621\n",
       "Yes    2422\n",
       "Name: count, dtype: int64"
      ]
     },
     "metadata": {},
     "output_type": "display_data"
    },
    {
     "name": "stdout",
     "output_type": "stream",
     "text": [
      "\n",
      "============= TechSupport =================\n"
     ]
    },
    {
     "data": {
      "text/plain": [
       "TechSupport\n",
       "No     4999\n",
       "Yes    2044\n",
       "Name: count, dtype: int64"
      ]
     },
     "metadata": {},
     "output_type": "display_data"
    },
    {
     "name": "stdout",
     "output_type": "stream",
     "text": [
      "\n",
      "============= StreamingTV =================\n"
     ]
    },
    {
     "data": {
      "text/plain": [
       "StreamingTV\n",
       "No     4336\n",
       "Yes    2707\n",
       "Name: count, dtype: int64"
      ]
     },
     "metadata": {},
     "output_type": "display_data"
    },
    {
     "name": "stdout",
     "output_type": "stream",
     "text": [
      "\n",
      "============= StreamingMovies =================\n"
     ]
    },
    {
     "data": {
      "text/plain": [
       "StreamingMovies\n",
       "No     4311\n",
       "Yes    2732\n",
       "Name: count, dtype: int64"
      ]
     },
     "metadata": {},
     "output_type": "display_data"
    },
    {
     "name": "stdout",
     "output_type": "stream",
     "text": [
      "\n",
      "============= Contract =================\n"
     ]
    },
    {
     "data": {
      "text/plain": [
       "Contract\n",
       "Month-to-month    3875\n",
       "Two year          1695\n",
       "One year          1473\n",
       "Name: count, dtype: int64"
      ]
     },
     "metadata": {},
     "output_type": "display_data"
    },
    {
     "name": "stdout",
     "output_type": "stream",
     "text": [
      "\n",
      "============= PaperlessBilling =================\n"
     ]
    },
    {
     "data": {
      "text/plain": [
       "PaperlessBilling\n",
       "Yes    4171\n",
       "No     2872\n",
       "Name: count, dtype: int64"
      ]
     },
     "metadata": {},
     "output_type": "display_data"
    },
    {
     "name": "stdout",
     "output_type": "stream",
     "text": [
      "\n",
      "============= PaymentMethod =================\n"
     ]
    },
    {
     "data": {
      "text/plain": [
       "PaymentMethod\n",
       "Electronic check             2365\n",
       "Mailed check                 1612\n",
       "Bank transfer (automatic)    1544\n",
       "Credit card (automatic)      1522\n",
       "Name: count, dtype: int64"
      ]
     },
     "metadata": {},
     "output_type": "display_data"
    },
    {
     "name": "stdout",
     "output_type": "stream",
     "text": [
      "\n",
      "============= Churn =================\n"
     ]
    },
    {
     "data": {
      "text/plain": [
       "Churn\n",
       "0    5174\n",
       "1    1869\n",
       "Name: count, dtype: int64"
      ]
     },
     "metadata": {},
     "output_type": "display_data"
    },
    {
     "name": "stdout",
     "output_type": "stream",
     "text": [
      "\n"
     ]
    }
   ],
   "source": [
    "for column in custom_columns:\n",
    "    print(f\"============= {column} =================\")\n",
    "    display(df_churn[column].value_counts())\n",
    "    print()"
   ]
  },
  {
   "cell_type": "markdown",
   "metadata": {},
   "source": [
    "Setelah nilai dirubah sesuai dengan artinya yakni mengganti kategori selain no yang memiliki makna sama dengan no menjadi no, dapat dilihat bahwa kategori nya sudah berubah pada kolom StreamingMovies,StreamingTV, TechSupport, DeviceProtection.OnlineBackup, OnlineSecurity, dan MultipleLines sudah memiliki 2 nilai saja yakni yes dan no"
   ]
  },
  {
   "cell_type": "code",
   "execution_count": 102,
   "metadata": {},
   "outputs": [],
   "source": [
    "train_churn, test_churn = train_test_split(df_churn, test_size = 0.2, random_state = 42)"
   ]
  },
  {
   "cell_type": "markdown",
   "metadata": {},
   "source": [
    "selanjutnya dilakukan splitting data sebelum melanjutkan ke encoder selanjutnya, di sini saya membaginya mnejadi 20% data tes dan 80% data train"
   ]
  },
  {
   "cell_type": "markdown",
   "metadata": {},
   "source": [
    "## 3A). Lakukan label encoder pada 'Partner', 'Dependents'"
   ]
  },
  {
   "cell_type": "code",
   "execution_count": 103,
   "metadata": {},
   "outputs": [],
   "source": [
    "from sklearn.preprocessing import LabelEncoder\n",
    "columns_to_encode = ['Partner', 'Dependents']\n",
    "label_encoder = LabelEncoder()"
   ]
  },
  {
   "cell_type": "markdown",
   "metadata": {},
   "source": [
    "Pada tahap ini dilakukan label encoder pada kolom partner dan dependents"
   ]
  },
  {
   "cell_type": "code",
   "execution_count": 104,
   "metadata": {},
   "outputs": [],
   "source": [
    "#LABEL ENCODING DATA TRAIN\n",
    "for col in columns_to_encode:\n",
    "    train_churn[col] = label_encoder.fit_transform(train_churn[col])"
   ]
  },
  {
   "cell_type": "markdown",
   "metadata": {},
   "source": [
    "Pada tahap ini dilakukan penerapan label encoding pada data train"
   ]
  },
  {
   "cell_type": "code",
   "execution_count": 105,
   "metadata": {},
   "outputs": [],
   "source": [
    "#LABEL ENCODING DATA TES\n",
    "for col in columns_to_encode:\n",
    "    test_churn[col] = label_encoder.transform(test_churn[col])"
   ]
  },
  {
   "cell_type": "markdown",
   "metadata": {},
   "source": [
    "selain pada data train, di sini juga mengalami label encoding pada data tes agar tidak terjadi data leakage"
   ]
  },
  {
   "cell_type": "code",
   "execution_count": 106,
   "metadata": {},
   "outputs": [
    {
     "data": {
      "text/html": [
       "<div>\n",
       "<style scoped>\n",
       "    .dataframe tbody tr th:only-of-type {\n",
       "        vertical-align: middle;\n",
       "    }\n",
       "\n",
       "    .dataframe tbody tr th {\n",
       "        vertical-align: top;\n",
       "    }\n",
       "\n",
       "    .dataframe thead th {\n",
       "        text-align: right;\n",
       "    }\n",
       "</style>\n",
       "<table border=\"1\" class=\"dataframe\">\n",
       "  <thead>\n",
       "    <tr style=\"text-align: right;\">\n",
       "      <th></th>\n",
       "      <th>customerID</th>\n",
       "      <th>gender</th>\n",
       "      <th>SeniorCitizen</th>\n",
       "      <th>Partner</th>\n",
       "      <th>Dependents</th>\n",
       "      <th>tenure</th>\n",
       "      <th>PhoneService</th>\n",
       "      <th>MultipleLines</th>\n",
       "      <th>InternetService</th>\n",
       "      <th>OnlineSecurity</th>\n",
       "      <th>...</th>\n",
       "      <th>DeviceProtection</th>\n",
       "      <th>TechSupport</th>\n",
       "      <th>StreamingTV</th>\n",
       "      <th>StreamingMovies</th>\n",
       "      <th>Contract</th>\n",
       "      <th>PaperlessBilling</th>\n",
       "      <th>PaymentMethod</th>\n",
       "      <th>MonthlyCharges</th>\n",
       "      <th>TotalCharges</th>\n",
       "      <th>Churn</th>\n",
       "    </tr>\n",
       "  </thead>\n",
       "  <tbody>\n",
       "    <tr>\n",
       "      <th>2142</th>\n",
       "      <td>4223-BKEOR</td>\n",
       "      <td>Female</td>\n",
       "      <td>0</td>\n",
       "      <td>0</td>\n",
       "      <td>1</td>\n",
       "      <td>21</td>\n",
       "      <td>Yes</td>\n",
       "      <td>No</td>\n",
       "      <td>DSL</td>\n",
       "      <td>Yes</td>\n",
       "      <td>...</td>\n",
       "      <td>Yes</td>\n",
       "      <td>No</td>\n",
       "      <td>No</td>\n",
       "      <td>Yes</td>\n",
       "      <td>One year</td>\n",
       "      <td>No</td>\n",
       "      <td>Mailed check</td>\n",
       "      <td>64.85</td>\n",
       "      <td>1336.8</td>\n",
       "      <td>0</td>\n",
       "    </tr>\n",
       "    <tr>\n",
       "      <th>1623</th>\n",
       "      <td>6035-RIIOM</td>\n",
       "      <td>Female</td>\n",
       "      <td>0</td>\n",
       "      <td>0</td>\n",
       "      <td>0</td>\n",
       "      <td>54</td>\n",
       "      <td>Yes</td>\n",
       "      <td>Yes</td>\n",
       "      <td>Fiber optic</td>\n",
       "      <td>No</td>\n",
       "      <td>...</td>\n",
       "      <td>No</td>\n",
       "      <td>No</td>\n",
       "      <td>Yes</td>\n",
       "      <td>Yes</td>\n",
       "      <td>Two year</td>\n",
       "      <td>Yes</td>\n",
       "      <td>Bank transfer (automatic)</td>\n",
       "      <td>97.20</td>\n",
       "      <td>5129.45</td>\n",
       "      <td>0</td>\n",
       "    </tr>\n",
       "    <tr>\n",
       "      <th>6074</th>\n",
       "      <td>3797-VTIDR</td>\n",
       "      <td>Male</td>\n",
       "      <td>0</td>\n",
       "      <td>1</td>\n",
       "      <td>0</td>\n",
       "      <td>1</td>\n",
       "      <td>No</td>\n",
       "      <td>No</td>\n",
       "      <td>DSL</td>\n",
       "      <td>No</td>\n",
       "      <td>...</td>\n",
       "      <td>No</td>\n",
       "      <td>No</td>\n",
       "      <td>No</td>\n",
       "      <td>No</td>\n",
       "      <td>Month-to-month</td>\n",
       "      <td>Yes</td>\n",
       "      <td>Electronic check</td>\n",
       "      <td>23.45</td>\n",
       "      <td>23.45</td>\n",
       "      <td>1</td>\n",
       "    </tr>\n",
       "    <tr>\n",
       "      <th>1362</th>\n",
       "      <td>2568-BRGYX</td>\n",
       "      <td>Male</td>\n",
       "      <td>0</td>\n",
       "      <td>0</td>\n",
       "      <td>0</td>\n",
       "      <td>4</td>\n",
       "      <td>Yes</td>\n",
       "      <td>No</td>\n",
       "      <td>Fiber optic</td>\n",
       "      <td>No</td>\n",
       "      <td>...</td>\n",
       "      <td>No</td>\n",
       "      <td>No</td>\n",
       "      <td>No</td>\n",
       "      <td>No</td>\n",
       "      <td>Month-to-month</td>\n",
       "      <td>Yes</td>\n",
       "      <td>Electronic check</td>\n",
       "      <td>70.20</td>\n",
       "      <td>237.95</td>\n",
       "      <td>1</td>\n",
       "    </tr>\n",
       "    <tr>\n",
       "      <th>6754</th>\n",
       "      <td>2775-SEFEE</td>\n",
       "      <td>Male</td>\n",
       "      <td>0</td>\n",
       "      <td>0</td>\n",
       "      <td>1</td>\n",
       "      <td>0</td>\n",
       "      <td>Yes</td>\n",
       "      <td>Yes</td>\n",
       "      <td>DSL</td>\n",
       "      <td>Yes</td>\n",
       "      <td>...</td>\n",
       "      <td>No</td>\n",
       "      <td>Yes</td>\n",
       "      <td>No</td>\n",
       "      <td>No</td>\n",
       "      <td>Two year</td>\n",
       "      <td>Yes</td>\n",
       "      <td>Bank transfer (automatic)</td>\n",
       "      <td>61.90</td>\n",
       "      <td></td>\n",
       "      <td>0</td>\n",
       "    </tr>\n",
       "  </tbody>\n",
       "</table>\n",
       "<p>5 rows × 21 columns</p>\n",
       "</div>"
      ],
      "text/plain": [
       "      customerID  gender  SeniorCitizen  Partner  Dependents  tenure  \\\n",
       "2142  4223-BKEOR  Female              0        0           1      21   \n",
       "1623  6035-RIIOM  Female              0        0           0      54   \n",
       "6074  3797-VTIDR    Male              0        1           0       1   \n",
       "1362  2568-BRGYX    Male              0        0           0       4   \n",
       "6754  2775-SEFEE    Male              0        0           1       0   \n",
       "\n",
       "     PhoneService MultipleLines InternetService OnlineSecurity  ...  \\\n",
       "2142          Yes            No             DSL            Yes  ...   \n",
       "1623          Yes           Yes     Fiber optic             No  ...   \n",
       "6074           No            No             DSL             No  ...   \n",
       "1362          Yes            No     Fiber optic             No  ...   \n",
       "6754          Yes           Yes             DSL            Yes  ...   \n",
       "\n",
       "     DeviceProtection TechSupport StreamingTV StreamingMovies        Contract  \\\n",
       "2142              Yes          No          No             Yes        One year   \n",
       "1623               No          No         Yes             Yes        Two year   \n",
       "6074               No          No          No              No  Month-to-month   \n",
       "1362               No          No          No              No  Month-to-month   \n",
       "6754               No         Yes          No              No        Two year   \n",
       "\n",
       "     PaperlessBilling              PaymentMethod MonthlyCharges  TotalCharges  \\\n",
       "2142               No               Mailed check          64.85        1336.8   \n",
       "1623              Yes  Bank transfer (automatic)          97.20       5129.45   \n",
       "6074              Yes           Electronic check          23.45         23.45   \n",
       "1362              Yes           Electronic check          70.20        237.95   \n",
       "6754              Yes  Bank transfer (automatic)          61.90                 \n",
       "\n",
       "     Churn  \n",
       "2142     0  \n",
       "1623     0  \n",
       "6074     1  \n",
       "1362     1  \n",
       "6754     0  \n",
       "\n",
       "[5 rows x 21 columns]"
      ]
     },
     "execution_count": 106,
     "metadata": {},
     "output_type": "execute_result"
    }
   ],
   "source": [
    "train_churn.head()"
   ]
  },
  {
   "cell_type": "markdown",
   "metadata": {},
   "source": [
    "Pada tahap ini saya menampilkan data train yang telah dilakukan label encoding"
   ]
  },
  {
   "cell_type": "code",
   "execution_count": 107,
   "metadata": {},
   "outputs": [
    {
     "data": {
      "text/html": [
       "<div>\n",
       "<style scoped>\n",
       "    .dataframe tbody tr th:only-of-type {\n",
       "        vertical-align: middle;\n",
       "    }\n",
       "\n",
       "    .dataframe tbody tr th {\n",
       "        vertical-align: top;\n",
       "    }\n",
       "\n",
       "    .dataframe thead th {\n",
       "        text-align: right;\n",
       "    }\n",
       "</style>\n",
       "<table border=\"1\" class=\"dataframe\">\n",
       "  <thead>\n",
       "    <tr style=\"text-align: right;\">\n",
       "      <th></th>\n",
       "      <th>customerID</th>\n",
       "      <th>gender</th>\n",
       "      <th>SeniorCitizen</th>\n",
       "      <th>Partner</th>\n",
       "      <th>Dependents</th>\n",
       "      <th>tenure</th>\n",
       "      <th>PhoneService</th>\n",
       "      <th>MultipleLines</th>\n",
       "      <th>InternetService</th>\n",
       "      <th>OnlineSecurity</th>\n",
       "      <th>...</th>\n",
       "      <th>DeviceProtection</th>\n",
       "      <th>TechSupport</th>\n",
       "      <th>StreamingTV</th>\n",
       "      <th>StreamingMovies</th>\n",
       "      <th>Contract</th>\n",
       "      <th>PaperlessBilling</th>\n",
       "      <th>PaymentMethod</th>\n",
       "      <th>MonthlyCharges</th>\n",
       "      <th>TotalCharges</th>\n",
       "      <th>Churn</th>\n",
       "    </tr>\n",
       "  </thead>\n",
       "  <tbody>\n",
       "    <tr>\n",
       "      <th>185</th>\n",
       "      <td>1024-GUALD</td>\n",
       "      <td>Female</td>\n",
       "      <td>0</td>\n",
       "      <td>1</td>\n",
       "      <td>0</td>\n",
       "      <td>1</td>\n",
       "      <td>No</td>\n",
       "      <td>No</td>\n",
       "      <td>DSL</td>\n",
       "      <td>No</td>\n",
       "      <td>...</td>\n",
       "      <td>No</td>\n",
       "      <td>No</td>\n",
       "      <td>No</td>\n",
       "      <td>No</td>\n",
       "      <td>Month-to-month</td>\n",
       "      <td>Yes</td>\n",
       "      <td>Electronic check</td>\n",
       "      <td>24.80</td>\n",
       "      <td>24.8</td>\n",
       "      <td>1</td>\n",
       "    </tr>\n",
       "    <tr>\n",
       "      <th>2715</th>\n",
       "      <td>0484-JPBRU</td>\n",
       "      <td>Male</td>\n",
       "      <td>0</td>\n",
       "      <td>0</td>\n",
       "      <td>0</td>\n",
       "      <td>41</td>\n",
       "      <td>Yes</td>\n",
       "      <td>Yes</td>\n",
       "      <td>No</td>\n",
       "      <td>No</td>\n",
       "      <td>...</td>\n",
       "      <td>No</td>\n",
       "      <td>No</td>\n",
       "      <td>No</td>\n",
       "      <td>No</td>\n",
       "      <td>Month-to-month</td>\n",
       "      <td>Yes</td>\n",
       "      <td>Bank transfer (automatic)</td>\n",
       "      <td>25.25</td>\n",
       "      <td>996.45</td>\n",
       "      <td>0</td>\n",
       "    </tr>\n",
       "    <tr>\n",
       "      <th>3825</th>\n",
       "      <td>3620-EHIMZ</td>\n",
       "      <td>Female</td>\n",
       "      <td>0</td>\n",
       "      <td>1</td>\n",
       "      <td>1</td>\n",
       "      <td>52</td>\n",
       "      <td>Yes</td>\n",
       "      <td>No</td>\n",
       "      <td>No</td>\n",
       "      <td>No</td>\n",
       "      <td>...</td>\n",
       "      <td>No</td>\n",
       "      <td>No</td>\n",
       "      <td>No</td>\n",
       "      <td>No</td>\n",
       "      <td>Two year</td>\n",
       "      <td>No</td>\n",
       "      <td>Mailed check</td>\n",
       "      <td>19.35</td>\n",
       "      <td>1031.7</td>\n",
       "      <td>0</td>\n",
       "    </tr>\n",
       "    <tr>\n",
       "      <th>1807</th>\n",
       "      <td>6910-HADCM</td>\n",
       "      <td>Female</td>\n",
       "      <td>0</td>\n",
       "      <td>0</td>\n",
       "      <td>0</td>\n",
       "      <td>1</td>\n",
       "      <td>Yes</td>\n",
       "      <td>No</td>\n",
       "      <td>Fiber optic</td>\n",
       "      <td>No</td>\n",
       "      <td>...</td>\n",
       "      <td>Yes</td>\n",
       "      <td>No</td>\n",
       "      <td>No</td>\n",
       "      <td>No</td>\n",
       "      <td>Month-to-month</td>\n",
       "      <td>No</td>\n",
       "      <td>Electronic check</td>\n",
       "      <td>76.35</td>\n",
       "      <td>76.35</td>\n",
       "      <td>1</td>\n",
       "    </tr>\n",
       "    <tr>\n",
       "      <th>132</th>\n",
       "      <td>8587-XYZSF</td>\n",
       "      <td>Male</td>\n",
       "      <td>0</td>\n",
       "      <td>0</td>\n",
       "      <td>0</td>\n",
       "      <td>67</td>\n",
       "      <td>Yes</td>\n",
       "      <td>No</td>\n",
       "      <td>DSL</td>\n",
       "      <td>No</td>\n",
       "      <td>...</td>\n",
       "      <td>No</td>\n",
       "      <td>Yes</td>\n",
       "      <td>No</td>\n",
       "      <td>No</td>\n",
       "      <td>Two year</td>\n",
       "      <td>No</td>\n",
       "      <td>Bank transfer (automatic)</td>\n",
       "      <td>50.55</td>\n",
       "      <td>3260.1</td>\n",
       "      <td>0</td>\n",
       "    </tr>\n",
       "  </tbody>\n",
       "</table>\n",
       "<p>5 rows × 21 columns</p>\n",
       "</div>"
      ],
      "text/plain": [
       "      customerID  gender  SeniorCitizen  Partner  Dependents  tenure  \\\n",
       "185   1024-GUALD  Female              0        1           0       1   \n",
       "2715  0484-JPBRU    Male              0        0           0      41   \n",
       "3825  3620-EHIMZ  Female              0        1           1      52   \n",
       "1807  6910-HADCM  Female              0        0           0       1   \n",
       "132   8587-XYZSF    Male              0        0           0      67   \n",
       "\n",
       "     PhoneService MultipleLines InternetService OnlineSecurity  ...  \\\n",
       "185            No            No             DSL             No  ...   \n",
       "2715          Yes           Yes              No             No  ...   \n",
       "3825          Yes            No              No             No  ...   \n",
       "1807          Yes            No     Fiber optic             No  ...   \n",
       "132           Yes            No             DSL             No  ...   \n",
       "\n",
       "     DeviceProtection TechSupport StreamingTV StreamingMovies        Contract  \\\n",
       "185                No          No          No              No  Month-to-month   \n",
       "2715               No          No          No              No  Month-to-month   \n",
       "3825               No          No          No              No        Two year   \n",
       "1807              Yes          No          No              No  Month-to-month   \n",
       "132                No         Yes          No              No        Two year   \n",
       "\n",
       "     PaperlessBilling              PaymentMethod MonthlyCharges  TotalCharges  \\\n",
       "185               Yes           Electronic check          24.80          24.8   \n",
       "2715              Yes  Bank transfer (automatic)          25.25        996.45   \n",
       "3825               No               Mailed check          19.35        1031.7   \n",
       "1807               No           Electronic check          76.35         76.35   \n",
       "132                No  Bank transfer (automatic)          50.55        3260.1   \n",
       "\n",
       "     Churn  \n",
       "185      1  \n",
       "2715     0  \n",
       "3825     0  \n",
       "1807     1  \n",
       "132      0  \n",
       "\n",
       "[5 rows x 21 columns]"
      ]
     },
     "execution_count": 107,
     "metadata": {},
     "output_type": "execute_result"
    }
   ],
   "source": [
    "test_churn.head()"
   ]
  },
  {
   "cell_type": "markdown",
   "metadata": {},
   "source": [
    "Pada tahap ini saya menampilkan data tes yang telah dilakukan label encoding"
   ]
  },
  {
   "cell_type": "markdown",
   "metadata": {},
   "source": [
    "## 3B). Pilih kolom-kolom StreamingMovies, StreamingTV, TechSupport,DeviceProtection, OnlineBackup, OnlineSecurity, MultipleLines"
   ]
  },
  {
   "cell_type": "code",
   "execution_count": 108,
   "metadata": {},
   "outputs": [],
   "source": [
    "\n",
    "from sklearn.preprocessing import LabelEncoder\n",
    "cols_to_encode = ['StreamingMovies', 'StreamingTV', 'TechSupport', 'DeviceProtection', 'OnlineBackup', 'OnlineSecurity', 'MultipleLines']\n"
   ]
  },
  {
   "cell_type": "markdown",
   "metadata": {},
   "source": [
    "## 3C). Ganti nilai yang tidak sesuai : No internet service menjadi No lalu validasi dengan value_counts"
   ]
  },
  {
   "cell_type": "code",
   "execution_count": 109,
   "metadata": {},
   "outputs": [],
   "source": [
    "for col in cols_to_encode:\n",
    "  train_churn[col] = train_churn[col].replace('No internet service', 'No')\n",
    "  test_churn[col] = test_churn[col].replace('No internet service', 'No')"
   ]
  },
  {
   "cell_type": "markdown",
   "metadata": {},
   "source": [
    "Pada tahap ini saya mengganti no internet service menjadi no, kemudian divalidasi dengan value_count"
   ]
  },
  {
   "cell_type": "code",
   "execution_count": 110,
   "metadata": {},
   "outputs": [
    {
     "name": "stdout",
     "output_type": "stream",
     "text": [
      "============= StreamingMovies =================\n",
      "StreamingMovies\n",
      "No     3437\n",
      "Yes    2197\n",
      "Name: count, dtype: int64\n",
      "\n",
      "============= StreamingTV =================\n",
      "StreamingTV\n",
      "No     3453\n",
      "Yes    2181\n",
      "Name: count, dtype: int64\n",
      "\n",
      "============= TechSupport =================\n",
      "TechSupport\n",
      "No     4005\n",
      "Yes    1629\n",
      "Name: count, dtype: int64\n",
      "\n",
      "============= DeviceProtection =================\n",
      "DeviceProtection\n",
      "No     3703\n",
      "Yes    1931\n",
      "Name: count, dtype: int64\n",
      "\n",
      "============= OnlineBackup =================\n",
      "OnlineBackup\n",
      "No     3662\n",
      "Yes    1972\n",
      "Name: count, dtype: int64\n",
      "\n",
      "============= OnlineSecurity =================\n",
      "OnlineSecurity\n",
      "No     4024\n",
      "Yes    1610\n",
      "Name: count, dtype: int64\n",
      "\n",
      "============= MultipleLines =================\n",
      "MultipleLines\n",
      "No     3237\n",
      "Yes    2397\n",
      "Name: count, dtype: int64\n",
      "\n"
     ]
    }
   ],
   "source": [
    "#VALIDASI DENGAN VALUE_COUNTS\n",
    "for col in cols_to_encode:\n",
    "  print(f\"============= {col} =================\")\n",
    "  print(train_churn[col].value_counts())\n",
    "  print()"
   ]
  },
  {
   "cell_type": "markdown",
   "metadata": {},
   "source": [
    "Setelah menggant nilai yang tidak sesuai, di sini saya memvalidasi dengan value_count untuk melihat apakah sudah perubahan atau tidak. Dan berdasarkan output yang dihasilkan didapatkan sudah mengalami perubahan"
   ]
  },
  {
   "cell_type": "markdown",
   "metadata": {},
   "source": [
    "## 3D). LABEL ENCODER"
   ]
  },
  {
   "cell_type": "code",
   "execution_count": 111,
   "metadata": {},
   "outputs": [],
   "source": [
    "le = LabelEncoder()\n",
    "for col in cols_to_encode:\n",
    "  train_churn[col] = le.fit_transform(train_churn[col])\n",
    "  test_churn[col] = le.transform(test_churn[col])"
   ]
  },
  {
   "cell_type": "markdown",
   "metadata": {},
   "source": [
    "Pada tahap ini saya melakukan label encoder pada data train dan data tes yang telah dipisahkan"
   ]
  },
  {
   "cell_type": "code",
   "execution_count": 112,
   "metadata": {},
   "outputs": [
    {
     "data": {
      "text/html": [
       "<div>\n",
       "<style scoped>\n",
       "    .dataframe tbody tr th:only-of-type {\n",
       "        vertical-align: middle;\n",
       "    }\n",
       "\n",
       "    .dataframe tbody tr th {\n",
       "        vertical-align: top;\n",
       "    }\n",
       "\n",
       "    .dataframe thead th {\n",
       "        text-align: right;\n",
       "    }\n",
       "</style>\n",
       "<table border=\"1\" class=\"dataframe\">\n",
       "  <thead>\n",
       "    <tr style=\"text-align: right;\">\n",
       "      <th></th>\n",
       "      <th>customerID</th>\n",
       "      <th>gender</th>\n",
       "      <th>SeniorCitizen</th>\n",
       "      <th>Partner</th>\n",
       "      <th>Dependents</th>\n",
       "      <th>tenure</th>\n",
       "      <th>PhoneService</th>\n",
       "      <th>MultipleLines</th>\n",
       "      <th>InternetService</th>\n",
       "      <th>OnlineSecurity</th>\n",
       "      <th>...</th>\n",
       "      <th>DeviceProtection</th>\n",
       "      <th>TechSupport</th>\n",
       "      <th>StreamingTV</th>\n",
       "      <th>StreamingMovies</th>\n",
       "      <th>Contract</th>\n",
       "      <th>PaperlessBilling</th>\n",
       "      <th>PaymentMethod</th>\n",
       "      <th>MonthlyCharges</th>\n",
       "      <th>TotalCharges</th>\n",
       "      <th>Churn</th>\n",
       "    </tr>\n",
       "  </thead>\n",
       "  <tbody>\n",
       "    <tr>\n",
       "      <th>2142</th>\n",
       "      <td>4223-BKEOR</td>\n",
       "      <td>Female</td>\n",
       "      <td>0</td>\n",
       "      <td>0</td>\n",
       "      <td>1</td>\n",
       "      <td>21</td>\n",
       "      <td>Yes</td>\n",
       "      <td>0</td>\n",
       "      <td>DSL</td>\n",
       "      <td>1</td>\n",
       "      <td>...</td>\n",
       "      <td>1</td>\n",
       "      <td>0</td>\n",
       "      <td>0</td>\n",
       "      <td>1</td>\n",
       "      <td>One year</td>\n",
       "      <td>No</td>\n",
       "      <td>Mailed check</td>\n",
       "      <td>64.85</td>\n",
       "      <td>1336.8</td>\n",
       "      <td>0</td>\n",
       "    </tr>\n",
       "    <tr>\n",
       "      <th>1623</th>\n",
       "      <td>6035-RIIOM</td>\n",
       "      <td>Female</td>\n",
       "      <td>0</td>\n",
       "      <td>0</td>\n",
       "      <td>0</td>\n",
       "      <td>54</td>\n",
       "      <td>Yes</td>\n",
       "      <td>1</td>\n",
       "      <td>Fiber optic</td>\n",
       "      <td>0</td>\n",
       "      <td>...</td>\n",
       "      <td>0</td>\n",
       "      <td>0</td>\n",
       "      <td>1</td>\n",
       "      <td>1</td>\n",
       "      <td>Two year</td>\n",
       "      <td>Yes</td>\n",
       "      <td>Bank transfer (automatic)</td>\n",
       "      <td>97.20</td>\n",
       "      <td>5129.45</td>\n",
       "      <td>0</td>\n",
       "    </tr>\n",
       "    <tr>\n",
       "      <th>6074</th>\n",
       "      <td>3797-VTIDR</td>\n",
       "      <td>Male</td>\n",
       "      <td>0</td>\n",
       "      <td>1</td>\n",
       "      <td>0</td>\n",
       "      <td>1</td>\n",
       "      <td>No</td>\n",
       "      <td>0</td>\n",
       "      <td>DSL</td>\n",
       "      <td>0</td>\n",
       "      <td>...</td>\n",
       "      <td>0</td>\n",
       "      <td>0</td>\n",
       "      <td>0</td>\n",
       "      <td>0</td>\n",
       "      <td>Month-to-month</td>\n",
       "      <td>Yes</td>\n",
       "      <td>Electronic check</td>\n",
       "      <td>23.45</td>\n",
       "      <td>23.45</td>\n",
       "      <td>1</td>\n",
       "    </tr>\n",
       "    <tr>\n",
       "      <th>1362</th>\n",
       "      <td>2568-BRGYX</td>\n",
       "      <td>Male</td>\n",
       "      <td>0</td>\n",
       "      <td>0</td>\n",
       "      <td>0</td>\n",
       "      <td>4</td>\n",
       "      <td>Yes</td>\n",
       "      <td>0</td>\n",
       "      <td>Fiber optic</td>\n",
       "      <td>0</td>\n",
       "      <td>...</td>\n",
       "      <td>0</td>\n",
       "      <td>0</td>\n",
       "      <td>0</td>\n",
       "      <td>0</td>\n",
       "      <td>Month-to-month</td>\n",
       "      <td>Yes</td>\n",
       "      <td>Electronic check</td>\n",
       "      <td>70.20</td>\n",
       "      <td>237.95</td>\n",
       "      <td>1</td>\n",
       "    </tr>\n",
       "    <tr>\n",
       "      <th>6754</th>\n",
       "      <td>2775-SEFEE</td>\n",
       "      <td>Male</td>\n",
       "      <td>0</td>\n",
       "      <td>0</td>\n",
       "      <td>1</td>\n",
       "      <td>0</td>\n",
       "      <td>Yes</td>\n",
       "      <td>1</td>\n",
       "      <td>DSL</td>\n",
       "      <td>1</td>\n",
       "      <td>...</td>\n",
       "      <td>0</td>\n",
       "      <td>1</td>\n",
       "      <td>0</td>\n",
       "      <td>0</td>\n",
       "      <td>Two year</td>\n",
       "      <td>Yes</td>\n",
       "      <td>Bank transfer (automatic)</td>\n",
       "      <td>61.90</td>\n",
       "      <td></td>\n",
       "      <td>0</td>\n",
       "    </tr>\n",
       "  </tbody>\n",
       "</table>\n",
       "<p>5 rows × 21 columns</p>\n",
       "</div>"
      ],
      "text/plain": [
       "      customerID  gender  SeniorCitizen  Partner  Dependents  tenure  \\\n",
       "2142  4223-BKEOR  Female              0        0           1      21   \n",
       "1623  6035-RIIOM  Female              0        0           0      54   \n",
       "6074  3797-VTIDR    Male              0        1           0       1   \n",
       "1362  2568-BRGYX    Male              0        0           0       4   \n",
       "6754  2775-SEFEE    Male              0        0           1       0   \n",
       "\n",
       "     PhoneService  MultipleLines InternetService  OnlineSecurity  ...  \\\n",
       "2142          Yes              0             DSL               1  ...   \n",
       "1623          Yes              1     Fiber optic               0  ...   \n",
       "6074           No              0             DSL               0  ...   \n",
       "1362          Yes              0     Fiber optic               0  ...   \n",
       "6754          Yes              1             DSL               1  ...   \n",
       "\n",
       "      DeviceProtection  TechSupport  StreamingTV  StreamingMovies  \\\n",
       "2142                 1            0            0                1   \n",
       "1623                 0            0            1                1   \n",
       "6074                 0            0            0                0   \n",
       "1362                 0            0            0                0   \n",
       "6754                 0            1            0                0   \n",
       "\n",
       "            Contract PaperlessBilling              PaymentMethod  \\\n",
       "2142        One year               No               Mailed check   \n",
       "1623        Two year              Yes  Bank transfer (automatic)   \n",
       "6074  Month-to-month              Yes           Electronic check   \n",
       "1362  Month-to-month              Yes           Electronic check   \n",
       "6754        Two year              Yes  Bank transfer (automatic)   \n",
       "\n",
       "     MonthlyCharges  TotalCharges Churn  \n",
       "2142          64.85        1336.8     0  \n",
       "1623          97.20       5129.45     0  \n",
       "6074          23.45         23.45     1  \n",
       "1362          70.20        237.95     1  \n",
       "6754          61.90                   0  \n",
       "\n",
       "[5 rows x 21 columns]"
      ]
     },
     "execution_count": 112,
     "metadata": {},
     "output_type": "execute_result"
    }
   ],
   "source": [
    "train_churn.head()"
   ]
  },
  {
   "cell_type": "markdown",
   "metadata": {},
   "source": [
    "berikut adalah hasil label encoder pada data train"
   ]
  },
  {
   "cell_type": "code",
   "execution_count": 113,
   "metadata": {},
   "outputs": [
    {
     "data": {
      "text/html": [
       "<div>\n",
       "<style scoped>\n",
       "    .dataframe tbody tr th:only-of-type {\n",
       "        vertical-align: middle;\n",
       "    }\n",
       "\n",
       "    .dataframe tbody tr th {\n",
       "        vertical-align: top;\n",
       "    }\n",
       "\n",
       "    .dataframe thead th {\n",
       "        text-align: right;\n",
       "    }\n",
       "</style>\n",
       "<table border=\"1\" class=\"dataframe\">\n",
       "  <thead>\n",
       "    <tr style=\"text-align: right;\">\n",
       "      <th></th>\n",
       "      <th>customerID</th>\n",
       "      <th>gender</th>\n",
       "      <th>SeniorCitizen</th>\n",
       "      <th>Partner</th>\n",
       "      <th>Dependents</th>\n",
       "      <th>tenure</th>\n",
       "      <th>PhoneService</th>\n",
       "      <th>MultipleLines</th>\n",
       "      <th>InternetService</th>\n",
       "      <th>OnlineSecurity</th>\n",
       "      <th>...</th>\n",
       "      <th>DeviceProtection</th>\n",
       "      <th>TechSupport</th>\n",
       "      <th>StreamingTV</th>\n",
       "      <th>StreamingMovies</th>\n",
       "      <th>Contract</th>\n",
       "      <th>PaperlessBilling</th>\n",
       "      <th>PaymentMethod</th>\n",
       "      <th>MonthlyCharges</th>\n",
       "      <th>TotalCharges</th>\n",
       "      <th>Churn</th>\n",
       "    </tr>\n",
       "  </thead>\n",
       "  <tbody>\n",
       "    <tr>\n",
       "      <th>185</th>\n",
       "      <td>1024-GUALD</td>\n",
       "      <td>Female</td>\n",
       "      <td>0</td>\n",
       "      <td>1</td>\n",
       "      <td>0</td>\n",
       "      <td>1</td>\n",
       "      <td>No</td>\n",
       "      <td>0</td>\n",
       "      <td>DSL</td>\n",
       "      <td>0</td>\n",
       "      <td>...</td>\n",
       "      <td>0</td>\n",
       "      <td>0</td>\n",
       "      <td>0</td>\n",
       "      <td>0</td>\n",
       "      <td>Month-to-month</td>\n",
       "      <td>Yes</td>\n",
       "      <td>Electronic check</td>\n",
       "      <td>24.80</td>\n",
       "      <td>24.8</td>\n",
       "      <td>1</td>\n",
       "    </tr>\n",
       "    <tr>\n",
       "      <th>2715</th>\n",
       "      <td>0484-JPBRU</td>\n",
       "      <td>Male</td>\n",
       "      <td>0</td>\n",
       "      <td>0</td>\n",
       "      <td>0</td>\n",
       "      <td>41</td>\n",
       "      <td>Yes</td>\n",
       "      <td>1</td>\n",
       "      <td>No</td>\n",
       "      <td>0</td>\n",
       "      <td>...</td>\n",
       "      <td>0</td>\n",
       "      <td>0</td>\n",
       "      <td>0</td>\n",
       "      <td>0</td>\n",
       "      <td>Month-to-month</td>\n",
       "      <td>Yes</td>\n",
       "      <td>Bank transfer (automatic)</td>\n",
       "      <td>25.25</td>\n",
       "      <td>996.45</td>\n",
       "      <td>0</td>\n",
       "    </tr>\n",
       "    <tr>\n",
       "      <th>3825</th>\n",
       "      <td>3620-EHIMZ</td>\n",
       "      <td>Female</td>\n",
       "      <td>0</td>\n",
       "      <td>1</td>\n",
       "      <td>1</td>\n",
       "      <td>52</td>\n",
       "      <td>Yes</td>\n",
       "      <td>0</td>\n",
       "      <td>No</td>\n",
       "      <td>0</td>\n",
       "      <td>...</td>\n",
       "      <td>0</td>\n",
       "      <td>0</td>\n",
       "      <td>0</td>\n",
       "      <td>0</td>\n",
       "      <td>Two year</td>\n",
       "      <td>No</td>\n",
       "      <td>Mailed check</td>\n",
       "      <td>19.35</td>\n",
       "      <td>1031.7</td>\n",
       "      <td>0</td>\n",
       "    </tr>\n",
       "    <tr>\n",
       "      <th>1807</th>\n",
       "      <td>6910-HADCM</td>\n",
       "      <td>Female</td>\n",
       "      <td>0</td>\n",
       "      <td>0</td>\n",
       "      <td>0</td>\n",
       "      <td>1</td>\n",
       "      <td>Yes</td>\n",
       "      <td>0</td>\n",
       "      <td>Fiber optic</td>\n",
       "      <td>0</td>\n",
       "      <td>...</td>\n",
       "      <td>1</td>\n",
       "      <td>0</td>\n",
       "      <td>0</td>\n",
       "      <td>0</td>\n",
       "      <td>Month-to-month</td>\n",
       "      <td>No</td>\n",
       "      <td>Electronic check</td>\n",
       "      <td>76.35</td>\n",
       "      <td>76.35</td>\n",
       "      <td>1</td>\n",
       "    </tr>\n",
       "    <tr>\n",
       "      <th>132</th>\n",
       "      <td>8587-XYZSF</td>\n",
       "      <td>Male</td>\n",
       "      <td>0</td>\n",
       "      <td>0</td>\n",
       "      <td>0</td>\n",
       "      <td>67</td>\n",
       "      <td>Yes</td>\n",
       "      <td>0</td>\n",
       "      <td>DSL</td>\n",
       "      <td>0</td>\n",
       "      <td>...</td>\n",
       "      <td>0</td>\n",
       "      <td>1</td>\n",
       "      <td>0</td>\n",
       "      <td>0</td>\n",
       "      <td>Two year</td>\n",
       "      <td>No</td>\n",
       "      <td>Bank transfer (automatic)</td>\n",
       "      <td>50.55</td>\n",
       "      <td>3260.1</td>\n",
       "      <td>0</td>\n",
       "    </tr>\n",
       "  </tbody>\n",
       "</table>\n",
       "<p>5 rows × 21 columns</p>\n",
       "</div>"
      ],
      "text/plain": [
       "      customerID  gender  SeniorCitizen  Partner  Dependents  tenure  \\\n",
       "185   1024-GUALD  Female              0        1           0       1   \n",
       "2715  0484-JPBRU    Male              0        0           0      41   \n",
       "3825  3620-EHIMZ  Female              0        1           1      52   \n",
       "1807  6910-HADCM  Female              0        0           0       1   \n",
       "132   8587-XYZSF    Male              0        0           0      67   \n",
       "\n",
       "     PhoneService  MultipleLines InternetService  OnlineSecurity  ...  \\\n",
       "185            No              0             DSL               0  ...   \n",
       "2715          Yes              1              No               0  ...   \n",
       "3825          Yes              0              No               0  ...   \n",
       "1807          Yes              0     Fiber optic               0  ...   \n",
       "132           Yes              0             DSL               0  ...   \n",
       "\n",
       "      DeviceProtection  TechSupport  StreamingTV  StreamingMovies  \\\n",
       "185                  0            0            0                0   \n",
       "2715                 0            0            0                0   \n",
       "3825                 0            0            0                0   \n",
       "1807                 1            0            0                0   \n",
       "132                  0            1            0                0   \n",
       "\n",
       "            Contract PaperlessBilling              PaymentMethod  \\\n",
       "185   Month-to-month              Yes           Electronic check   \n",
       "2715  Month-to-month              Yes  Bank transfer (automatic)   \n",
       "3825        Two year               No               Mailed check   \n",
       "1807  Month-to-month               No           Electronic check   \n",
       "132         Two year               No  Bank transfer (automatic)   \n",
       "\n",
       "     MonthlyCharges  TotalCharges Churn  \n",
       "185           24.80          24.8     1  \n",
       "2715          25.25        996.45     0  \n",
       "3825          19.35        1031.7     0  \n",
       "1807          76.35         76.35     1  \n",
       "132           50.55        3260.1     0  \n",
       "\n",
       "[5 rows x 21 columns]"
      ]
     },
     "execution_count": 113,
     "metadata": {},
     "output_type": "execute_result"
    }
   ],
   "source": [
    "test_churn.head()"
   ]
  },
  {
   "cell_type": "markdown",
   "metadata": {},
   "source": [
    "berikut adalah hasil label encoder pada data tes"
   ]
  },
  {
   "cell_type": "markdown",
   "metadata": {},
   "source": [
    "## 3E) MEAN CODING PADA INTERNET SERVICE"
   ]
  },
  {
   "cell_type": "code",
   "execution_count": 114,
   "metadata": {},
   "outputs": [
    {
     "data": {
      "text/plain": [
       "{'DSL': 0.1918514698298092,\n",
       " 'Fiber optic': 0.41555824264409513,\n",
       " 'No': 0.07660626029654036}"
      ]
     },
     "execution_count": 114,
     "metadata": {},
     "output_type": "execute_result"
    }
   ],
   "source": [
    "dict_inetServ = train_churn.groupby('InternetService')['Churn'].mean().to_dict()\n",
    "dict_inetServ"
   ]
  },
  {
   "cell_type": "markdown",
   "metadata": {},
   "source": [
    "Karena kolom ini berisikan teks maka dilakukan mean encoding dimana didapatkan hasil :\n",
    "1. DSL memmilki rata rata sebesar 19%, yang berarti sekitar  19% dari customer dengan kategori churn\n",
    "2. Fiber optic memiliki rata rata sebesar 41.5% yang berarti sekitar  19% dari customer dengan kategori churn\n",
    "3. No memiliki rata rata sebesar 7.6% yang berarti sekitar  19% dari customer dengan kategori churn"
   ]
  },
  {
   "cell_type": "code",
   "execution_count": 115,
   "metadata": {},
   "outputs": [],
   "source": [
    "train_churn['InternetService'] = train_churn['InternetService'].map(dict_inetServ)\n",
    "test_churn['InternetService'] = test_churn['InternetService'].map(dict_inetServ)"
   ]
  },
  {
   "cell_type": "markdown",
   "metadata": {},
   "source": [
    "Mean encoding ini diterapkan pada data test dan data train"
   ]
  },
  {
   "cell_type": "code",
   "execution_count": 116,
   "metadata": {},
   "outputs": [
    {
     "data": {
      "text/html": [
       "<div>\n",
       "<style scoped>\n",
       "    .dataframe tbody tr th:only-of-type {\n",
       "        vertical-align: middle;\n",
       "    }\n",
       "\n",
       "    .dataframe tbody tr th {\n",
       "        vertical-align: top;\n",
       "    }\n",
       "\n",
       "    .dataframe thead th {\n",
       "        text-align: right;\n",
       "    }\n",
       "</style>\n",
       "<table border=\"1\" class=\"dataframe\">\n",
       "  <thead>\n",
       "    <tr style=\"text-align: right;\">\n",
       "      <th></th>\n",
       "      <th>customerID</th>\n",
       "      <th>gender</th>\n",
       "      <th>SeniorCitizen</th>\n",
       "      <th>Partner</th>\n",
       "      <th>Dependents</th>\n",
       "      <th>tenure</th>\n",
       "      <th>PhoneService</th>\n",
       "      <th>MultipleLines</th>\n",
       "      <th>InternetService</th>\n",
       "      <th>OnlineSecurity</th>\n",
       "      <th>...</th>\n",
       "      <th>DeviceProtection</th>\n",
       "      <th>TechSupport</th>\n",
       "      <th>StreamingTV</th>\n",
       "      <th>StreamingMovies</th>\n",
       "      <th>Contract</th>\n",
       "      <th>PaperlessBilling</th>\n",
       "      <th>PaymentMethod</th>\n",
       "      <th>MonthlyCharges</th>\n",
       "      <th>TotalCharges</th>\n",
       "      <th>Churn</th>\n",
       "    </tr>\n",
       "  </thead>\n",
       "  <tbody>\n",
       "    <tr>\n",
       "      <th>2142</th>\n",
       "      <td>4223-BKEOR</td>\n",
       "      <td>Female</td>\n",
       "      <td>0</td>\n",
       "      <td>0</td>\n",
       "      <td>1</td>\n",
       "      <td>21</td>\n",
       "      <td>Yes</td>\n",
       "      <td>0</td>\n",
       "      <td>0.191851</td>\n",
       "      <td>1</td>\n",
       "      <td>...</td>\n",
       "      <td>1</td>\n",
       "      <td>0</td>\n",
       "      <td>0</td>\n",
       "      <td>1</td>\n",
       "      <td>One year</td>\n",
       "      <td>No</td>\n",
       "      <td>Mailed check</td>\n",
       "      <td>64.85</td>\n",
       "      <td>1336.8</td>\n",
       "      <td>0</td>\n",
       "    </tr>\n",
       "    <tr>\n",
       "      <th>1623</th>\n",
       "      <td>6035-RIIOM</td>\n",
       "      <td>Female</td>\n",
       "      <td>0</td>\n",
       "      <td>0</td>\n",
       "      <td>0</td>\n",
       "      <td>54</td>\n",
       "      <td>Yes</td>\n",
       "      <td>1</td>\n",
       "      <td>0.415558</td>\n",
       "      <td>0</td>\n",
       "      <td>...</td>\n",
       "      <td>0</td>\n",
       "      <td>0</td>\n",
       "      <td>1</td>\n",
       "      <td>1</td>\n",
       "      <td>Two year</td>\n",
       "      <td>Yes</td>\n",
       "      <td>Bank transfer (automatic)</td>\n",
       "      <td>97.20</td>\n",
       "      <td>5129.45</td>\n",
       "      <td>0</td>\n",
       "    </tr>\n",
       "    <tr>\n",
       "      <th>6074</th>\n",
       "      <td>3797-VTIDR</td>\n",
       "      <td>Male</td>\n",
       "      <td>0</td>\n",
       "      <td>1</td>\n",
       "      <td>0</td>\n",
       "      <td>1</td>\n",
       "      <td>No</td>\n",
       "      <td>0</td>\n",
       "      <td>0.191851</td>\n",
       "      <td>0</td>\n",
       "      <td>...</td>\n",
       "      <td>0</td>\n",
       "      <td>0</td>\n",
       "      <td>0</td>\n",
       "      <td>0</td>\n",
       "      <td>Month-to-month</td>\n",
       "      <td>Yes</td>\n",
       "      <td>Electronic check</td>\n",
       "      <td>23.45</td>\n",
       "      <td>23.45</td>\n",
       "      <td>1</td>\n",
       "    </tr>\n",
       "    <tr>\n",
       "      <th>1362</th>\n",
       "      <td>2568-BRGYX</td>\n",
       "      <td>Male</td>\n",
       "      <td>0</td>\n",
       "      <td>0</td>\n",
       "      <td>0</td>\n",
       "      <td>4</td>\n",
       "      <td>Yes</td>\n",
       "      <td>0</td>\n",
       "      <td>0.415558</td>\n",
       "      <td>0</td>\n",
       "      <td>...</td>\n",
       "      <td>0</td>\n",
       "      <td>0</td>\n",
       "      <td>0</td>\n",
       "      <td>0</td>\n",
       "      <td>Month-to-month</td>\n",
       "      <td>Yes</td>\n",
       "      <td>Electronic check</td>\n",
       "      <td>70.20</td>\n",
       "      <td>237.95</td>\n",
       "      <td>1</td>\n",
       "    </tr>\n",
       "    <tr>\n",
       "      <th>6754</th>\n",
       "      <td>2775-SEFEE</td>\n",
       "      <td>Male</td>\n",
       "      <td>0</td>\n",
       "      <td>0</td>\n",
       "      <td>1</td>\n",
       "      <td>0</td>\n",
       "      <td>Yes</td>\n",
       "      <td>1</td>\n",
       "      <td>0.191851</td>\n",
       "      <td>1</td>\n",
       "      <td>...</td>\n",
       "      <td>0</td>\n",
       "      <td>1</td>\n",
       "      <td>0</td>\n",
       "      <td>0</td>\n",
       "      <td>Two year</td>\n",
       "      <td>Yes</td>\n",
       "      <td>Bank transfer (automatic)</td>\n",
       "      <td>61.90</td>\n",
       "      <td></td>\n",
       "      <td>0</td>\n",
       "    </tr>\n",
       "  </tbody>\n",
       "</table>\n",
       "<p>5 rows × 21 columns</p>\n",
       "</div>"
      ],
      "text/plain": [
       "      customerID  gender  SeniorCitizen  Partner  Dependents  tenure  \\\n",
       "2142  4223-BKEOR  Female              0        0           1      21   \n",
       "1623  6035-RIIOM  Female              0        0           0      54   \n",
       "6074  3797-VTIDR    Male              0        1           0       1   \n",
       "1362  2568-BRGYX    Male              0        0           0       4   \n",
       "6754  2775-SEFEE    Male              0        0           1       0   \n",
       "\n",
       "     PhoneService  MultipleLines  InternetService  OnlineSecurity  ...  \\\n",
       "2142          Yes              0         0.191851               1  ...   \n",
       "1623          Yes              1         0.415558               0  ...   \n",
       "6074           No              0         0.191851               0  ...   \n",
       "1362          Yes              0         0.415558               0  ...   \n",
       "6754          Yes              1         0.191851               1  ...   \n",
       "\n",
       "      DeviceProtection  TechSupport  StreamingTV  StreamingMovies  \\\n",
       "2142                 1            0            0                1   \n",
       "1623                 0            0            1                1   \n",
       "6074                 0            0            0                0   \n",
       "1362                 0            0            0                0   \n",
       "6754                 0            1            0                0   \n",
       "\n",
       "            Contract PaperlessBilling              PaymentMethod  \\\n",
       "2142        One year               No               Mailed check   \n",
       "1623        Two year              Yes  Bank transfer (automatic)   \n",
       "6074  Month-to-month              Yes           Electronic check   \n",
       "1362  Month-to-month              Yes           Electronic check   \n",
       "6754        Two year              Yes  Bank transfer (automatic)   \n",
       "\n",
       "     MonthlyCharges  TotalCharges Churn  \n",
       "2142          64.85        1336.8     0  \n",
       "1623          97.20       5129.45     0  \n",
       "6074          23.45         23.45     1  \n",
       "1362          70.20        237.95     1  \n",
       "6754          61.90                   0  \n",
       "\n",
       "[5 rows x 21 columns]"
      ]
     },
     "execution_count": 116,
     "metadata": {},
     "output_type": "execute_result"
    }
   ],
   "source": [
    "train_churn.head()"
   ]
  },
  {
   "cell_type": "markdown",
   "metadata": {},
   "source": [
    "output di atas ini merupakan hasil mean coding pada data train"
   ]
  },
  {
   "cell_type": "code",
   "execution_count": 117,
   "metadata": {},
   "outputs": [
    {
     "data": {
      "text/html": [
       "<div>\n",
       "<style scoped>\n",
       "    .dataframe tbody tr th:only-of-type {\n",
       "        vertical-align: middle;\n",
       "    }\n",
       "\n",
       "    .dataframe tbody tr th {\n",
       "        vertical-align: top;\n",
       "    }\n",
       "\n",
       "    .dataframe thead th {\n",
       "        text-align: right;\n",
       "    }\n",
       "</style>\n",
       "<table border=\"1\" class=\"dataframe\">\n",
       "  <thead>\n",
       "    <tr style=\"text-align: right;\">\n",
       "      <th></th>\n",
       "      <th>customerID</th>\n",
       "      <th>gender</th>\n",
       "      <th>SeniorCitizen</th>\n",
       "      <th>Partner</th>\n",
       "      <th>Dependents</th>\n",
       "      <th>tenure</th>\n",
       "      <th>PhoneService</th>\n",
       "      <th>MultipleLines</th>\n",
       "      <th>InternetService</th>\n",
       "      <th>OnlineSecurity</th>\n",
       "      <th>...</th>\n",
       "      <th>DeviceProtection</th>\n",
       "      <th>TechSupport</th>\n",
       "      <th>StreamingTV</th>\n",
       "      <th>StreamingMovies</th>\n",
       "      <th>Contract</th>\n",
       "      <th>PaperlessBilling</th>\n",
       "      <th>PaymentMethod</th>\n",
       "      <th>MonthlyCharges</th>\n",
       "      <th>TotalCharges</th>\n",
       "      <th>Churn</th>\n",
       "    </tr>\n",
       "  </thead>\n",
       "  <tbody>\n",
       "    <tr>\n",
       "      <th>185</th>\n",
       "      <td>1024-GUALD</td>\n",
       "      <td>Female</td>\n",
       "      <td>0</td>\n",
       "      <td>1</td>\n",
       "      <td>0</td>\n",
       "      <td>1</td>\n",
       "      <td>No</td>\n",
       "      <td>0</td>\n",
       "      <td>0.191851</td>\n",
       "      <td>0</td>\n",
       "      <td>...</td>\n",
       "      <td>0</td>\n",
       "      <td>0</td>\n",
       "      <td>0</td>\n",
       "      <td>0</td>\n",
       "      <td>Month-to-month</td>\n",
       "      <td>Yes</td>\n",
       "      <td>Electronic check</td>\n",
       "      <td>24.80</td>\n",
       "      <td>24.8</td>\n",
       "      <td>1</td>\n",
       "    </tr>\n",
       "    <tr>\n",
       "      <th>2715</th>\n",
       "      <td>0484-JPBRU</td>\n",
       "      <td>Male</td>\n",
       "      <td>0</td>\n",
       "      <td>0</td>\n",
       "      <td>0</td>\n",
       "      <td>41</td>\n",
       "      <td>Yes</td>\n",
       "      <td>1</td>\n",
       "      <td>0.076606</td>\n",
       "      <td>0</td>\n",
       "      <td>...</td>\n",
       "      <td>0</td>\n",
       "      <td>0</td>\n",
       "      <td>0</td>\n",
       "      <td>0</td>\n",
       "      <td>Month-to-month</td>\n",
       "      <td>Yes</td>\n",
       "      <td>Bank transfer (automatic)</td>\n",
       "      <td>25.25</td>\n",
       "      <td>996.45</td>\n",
       "      <td>0</td>\n",
       "    </tr>\n",
       "    <tr>\n",
       "      <th>3825</th>\n",
       "      <td>3620-EHIMZ</td>\n",
       "      <td>Female</td>\n",
       "      <td>0</td>\n",
       "      <td>1</td>\n",
       "      <td>1</td>\n",
       "      <td>52</td>\n",
       "      <td>Yes</td>\n",
       "      <td>0</td>\n",
       "      <td>0.076606</td>\n",
       "      <td>0</td>\n",
       "      <td>...</td>\n",
       "      <td>0</td>\n",
       "      <td>0</td>\n",
       "      <td>0</td>\n",
       "      <td>0</td>\n",
       "      <td>Two year</td>\n",
       "      <td>No</td>\n",
       "      <td>Mailed check</td>\n",
       "      <td>19.35</td>\n",
       "      <td>1031.7</td>\n",
       "      <td>0</td>\n",
       "    </tr>\n",
       "    <tr>\n",
       "      <th>1807</th>\n",
       "      <td>6910-HADCM</td>\n",
       "      <td>Female</td>\n",
       "      <td>0</td>\n",
       "      <td>0</td>\n",
       "      <td>0</td>\n",
       "      <td>1</td>\n",
       "      <td>Yes</td>\n",
       "      <td>0</td>\n",
       "      <td>0.415558</td>\n",
       "      <td>0</td>\n",
       "      <td>...</td>\n",
       "      <td>1</td>\n",
       "      <td>0</td>\n",
       "      <td>0</td>\n",
       "      <td>0</td>\n",
       "      <td>Month-to-month</td>\n",
       "      <td>No</td>\n",
       "      <td>Electronic check</td>\n",
       "      <td>76.35</td>\n",
       "      <td>76.35</td>\n",
       "      <td>1</td>\n",
       "    </tr>\n",
       "    <tr>\n",
       "      <th>132</th>\n",
       "      <td>8587-XYZSF</td>\n",
       "      <td>Male</td>\n",
       "      <td>0</td>\n",
       "      <td>0</td>\n",
       "      <td>0</td>\n",
       "      <td>67</td>\n",
       "      <td>Yes</td>\n",
       "      <td>0</td>\n",
       "      <td>0.191851</td>\n",
       "      <td>0</td>\n",
       "      <td>...</td>\n",
       "      <td>0</td>\n",
       "      <td>1</td>\n",
       "      <td>0</td>\n",
       "      <td>0</td>\n",
       "      <td>Two year</td>\n",
       "      <td>No</td>\n",
       "      <td>Bank transfer (automatic)</td>\n",
       "      <td>50.55</td>\n",
       "      <td>3260.1</td>\n",
       "      <td>0</td>\n",
       "    </tr>\n",
       "  </tbody>\n",
       "</table>\n",
       "<p>5 rows × 21 columns</p>\n",
       "</div>"
      ],
      "text/plain": [
       "      customerID  gender  SeniorCitizen  Partner  Dependents  tenure  \\\n",
       "185   1024-GUALD  Female              0        1           0       1   \n",
       "2715  0484-JPBRU    Male              0        0           0      41   \n",
       "3825  3620-EHIMZ  Female              0        1           1      52   \n",
       "1807  6910-HADCM  Female              0        0           0       1   \n",
       "132   8587-XYZSF    Male              0        0           0      67   \n",
       "\n",
       "     PhoneService  MultipleLines  InternetService  OnlineSecurity  ...  \\\n",
       "185            No              0         0.191851               0  ...   \n",
       "2715          Yes              1         0.076606               0  ...   \n",
       "3825          Yes              0         0.076606               0  ...   \n",
       "1807          Yes              0         0.415558               0  ...   \n",
       "132           Yes              0         0.191851               0  ...   \n",
       "\n",
       "      DeviceProtection  TechSupport  StreamingTV  StreamingMovies  \\\n",
       "185                  0            0            0                0   \n",
       "2715                 0            0            0                0   \n",
       "3825                 0            0            0                0   \n",
       "1807                 1            0            0                0   \n",
       "132                  0            1            0                0   \n",
       "\n",
       "            Contract PaperlessBilling              PaymentMethod  \\\n",
       "185   Month-to-month              Yes           Electronic check   \n",
       "2715  Month-to-month              Yes  Bank transfer (automatic)   \n",
       "3825        Two year               No               Mailed check   \n",
       "1807  Month-to-month               No           Electronic check   \n",
       "132         Two year               No  Bank transfer (automatic)   \n",
       "\n",
       "     MonthlyCharges  TotalCharges Churn  \n",
       "185           24.80          24.8     1  \n",
       "2715          25.25        996.45     0  \n",
       "3825          19.35        1031.7     0  \n",
       "1807          76.35         76.35     1  \n",
       "132           50.55        3260.1     0  \n",
       "\n",
       "[5 rows x 21 columns]"
      ]
     },
     "execution_count": 117,
     "metadata": {},
     "output_type": "execute_result"
    }
   ],
   "source": [
    "test_churn.head()"
   ]
  },
  {
   "cell_type": "markdown",
   "metadata": {},
   "source": [
    "output di atas ini merupakan hasil mean coding pada data tes"
   ]
  },
  {
   "cell_type": "markdown",
   "metadata": {},
   "source": [
    "## SOAL NOMOR 4"
   ]
  },
  {
   "cell_type": "markdown",
   "metadata": {},
   "source": [
    "## 4A). MENGGANTI NILAI YANG TIDAK VALID (KOSONG ATAU SPASI) MENJADI NaN"
   ]
  },
  {
   "cell_type": "code",
   "execution_count": 118,
   "metadata": {},
   "outputs": [],
   "source": [
    "count_nan = df_churn['TotalCharges'].isnull().sum()"
   ]
  },
  {
   "cell_type": "code",
   "execution_count": 119,
   "metadata": {},
   "outputs": [
    {
     "name": "stdout",
     "output_type": "stream",
     "text": [
      "total nilai kosong atau hanya berisi spasi pada kolom 'TotalCharges': 11\n"
     ]
    }
   ],
   "source": [
    "# Menghitung jumlah nilai yang kosong atau hanya berisi spasi pada kolom TotalCharges\n",
    "count_invalid = df_churn['TotalCharges'].apply(lambda x: x.strip() == '' if isinstance(x, str) else False).sum()\n",
    "\n",
    "# Menampilkan hasil\n",
    "print(f\"total nilai kosong atau hanya berisi spasi pada kolom 'TotalCharges': {count_invalid}\")"
   ]
  },
  {
   "cell_type": "markdown",
   "metadata": {},
   "source": [
    "Pada tahap ini saya menampilkan nilai yang kosong atau hanya berisi spasi pada kolom total charges dan didapatkan bahwa ada 11 data yang kosong atau hanya berisi spasi"
   ]
  },
  {
   "cell_type": "code",
   "execution_count": 120,
   "metadata": {},
   "outputs": [
    {
     "name": "stdout",
     "output_type": "stream",
     "text": [
      "Jumlah nilai kosong atau hanya berisi spasi pada kolom 'TotalCharges': 0\n",
      "Jumlah nilai NaN: 11\n"
     ]
    }
   ],
   "source": [
    "# Mengecek dan mengganti nilai kosong atau spasi pada kolom TotalCharges dengan NaN\n",
    "df_churn['TotalCharges'] = df_churn['TotalCharges'].replace(r'^\\s*$', np.nan, regex=True)\n",
    "\n",
    "# Menghitung jumlah nilai yang kosong atau hanya berisi spasi pada kolom TotalCharges\n",
    "count_invalid = df_churn['TotalCharges'].apply(lambda x: x.strip() == '' if isinstance(x, str) else False).sum()\n",
    "\n",
    "# Menampilkan hasil\n",
    "print(f\"Jumlah nilai kosong atau hanya berisi spasi pada kolom 'TotalCharges': {count_invalid}\")\n",
    "\n",
    "# Menghitung jumlah nilai NaN pada kolom TotalCharges\n",
    "count_nan = df_churn['TotalCharges'].isnull().sum()\n",
    "\n",
    "# Menampilkan hasil\n",
    "print(f\"Jumlah nilai NaN: {count_nan}\")"
   ]
  },
  {
   "cell_type": "markdown",
   "metadata": {},
   "source": [
    "Pada tahap ini nilai kosong atau spasi diganti dengan NaN, kemudian di sini saya menampilkan jumlah nilai yang sudah di ganti menjadi NaN didapatkan ada 11 data yang telah dirubah menjadi 11"
   ]
  },
  {
   "cell_type": "markdown",
   "metadata": {},
   "source": [
    "## 4B). MENGUBAH KOLOM MENJADI TIPE FLOAT DAN JUGA MENGGUNAKAN pd.to_numeric serta errors='coerce'"
   ]
  },
  {
   "cell_type": "code",
   "execution_count": 121,
   "metadata": {},
   "outputs": [],
   "source": [
    "df_churn['TotalCharges'] = pd.to_numeric(df_churn['TotalCharges'], errors='coerce')"
   ]
  },
  {
   "cell_type": "markdown",
   "metadata": {},
   "source": [
    "Pada tahap ini dilakukan perubahan kolom menjadi  tipe float dan menggunakan pd.to_numeric dan menggunakan errors='coerce'. "
   ]
  },
  {
   "cell_type": "code",
   "execution_count": 122,
   "metadata": {},
   "outputs": [
    {
     "name": "stdout",
     "output_type": "stream",
     "text": [
      "tipe data 'TotalCharges': float64\n"
     ]
    }
   ],
   "source": [
    "# mengubah tipe data kolom TotalCharges\n",
    "df_churn['TotalCharges'] = pd.to_numeric(df_churn['TotalCharges'], errors='coerce')\n",
    "\n",
    "# menampilkan tipe data kolom TotalCharges\n",
    "print(f\"tipe data 'TotalCharges': {df_churn['TotalCharges'].dtype}\")"
   ]
  },
  {
   "cell_type": "markdown",
   "metadata": {},
   "source": [
    "Pada tahap ini saya memastikan lagi bahwa tipe data sudah berubah menjadi float dan di dapatkan hasil bahwa float yang artinya bahwa type data kolom Total Charges float"
   ]
  },
  {
   "cell_type": "markdown",
   "metadata": {},
   "source": [
    "## 4C). MENGECEK APAKAH ADA MISSING VALUE <20%"
   ]
  },
  {
   "cell_type": "code",
   "execution_count": 123,
   "metadata": {},
   "outputs": [
    {
     "name": "stdout",
     "output_type": "stream",
     "text": [
      "persentase missing value pada kolom 'TotalCharges': 0.16%\n"
     ]
    }
   ],
   "source": [
    "# Menghitung persentase missing values pada kolom 'TotalCharges'\n",
    "missing_percentage = df_churn['TotalCharges'].isna().mean() * 100\n",
    "\n",
    "# Menampilkan hasil\n",
    "print(f\"persentase missing value pada kolom 'TotalCharges': {missing_percentage:.2f}%\")"
   ]
  },
  {
   "cell_type": "markdown",
   "metadata": {},
   "source": [
    "Pada tahap ini saya mengecek apakah ada missing value pada kolom total charges atau tidak. Dan berdasarkan output terdapat 0.16% mising value"
   ]
  },
  {
   "cell_type": "markdown",
   "metadata": {},
   "source": [
    "## 4D). Mengisi nilai Nan dengan menggunakan metode median"
   ]
  },
  {
   "cell_type": "code",
   "execution_count": 124,
   "metadata": {},
   "outputs": [
    {
     "name": "stdout",
     "output_type": "stream",
     "text": [
      "Imputasi dilakukan dengan median: 1397.475\n"
     ]
    }
   ],
   "source": [
    "if missing_percentage < 20:\n",
    "    # Melakukan imputasi dengan median\n",
    "    median_value = df_churn['TotalCharges'].median()\n",
    "    df_churn['TotalCharges'] = df_churn['TotalCharges'].fillna(median_value)  # Menggunakan assignment langsung\n",
    "    print(f\"Imputasi dilakukan dengan median: {median_value}\")\n",
    "else:\n",
    "    print(f\"Persentase missing values pada kolom 'TotalCharges' lebih dari 20% ({missing_percentage:.2f}%)\")"
   ]
  },
  {
   "cell_type": "markdown",
   "metadata": {},
   "source": [
    "Karena missing value ditemukan sebanyak 0.16 dan masih di bawah 20% di sini saya mengimputasi dengan menggunakan metode median"
   ]
  },
  {
   "cell_type": "markdown",
   "metadata": {},
   "source": [
    "## 4E). MEMERIKSA APAKAH ADA NILAI NAN YANG TERSISA"
   ]
  },
  {
   "cell_type": "code",
   "execution_count": 125,
   "metadata": {},
   "outputs": [
    {
     "name": "stdout",
     "output_type": "stream",
     "text": [
      "Jumlah nilai NaN: 0\n"
     ]
    }
   ],
   "source": [
    "# Menghitung jumlah nilai NaN pada kolom TotalCharges\n",
    "count_nan = df_churn['TotalCharges'].isnull().sum()\n",
    "\n",
    "# Menampilkan hasil\n",
    "print(f\"Jumlah nilai NaN: {count_nan}\")"
   ]
  },
  {
   "cell_type": "markdown",
   "metadata": {},
   "source": [
    "Setelah menghandling missing value dan mengimputasi dengan median di sini saya memastikan bahwa sudah tidak ada data yang NaN "
   ]
  },
  {
   "cell_type": "markdown",
   "metadata": {},
   "source": [
    "## 4F). STANDARSCALER"
   ]
  },
  {
   "cell_type": "code",
   "execution_count": 126,
   "metadata": {},
   "outputs": [],
   "source": [
    "# Menggunakan StandardScaler\n",
    "from sklearn.preprocessing import StandardScaler\n",
    "scaler_standard = StandardScaler()\n",
    "df_churn['TotalCharges_scaled'] = scaler_standard.fit_transform(df_churn[['TotalCharges']])"
   ]
  },
  {
   "cell_type": "markdown",
   "metadata": {},
   "source": [
    "Disini saya melakukan standarisasi kolom total charges dengan menggunakan metode standarscaler"
   ]
  },
  {
   "cell_type": "code",
   "execution_count": 127,
   "metadata": {},
   "outputs": [
    {
     "data": {
      "image/png": "[encoded data removed]",
      "text/plain": [
       "<Figure size 1200x500 with 2 Axes>"
      ]
     },
     "metadata": {},
     "output_type": "display_data"
    }
   ],
   "source": [
    "fig, (ax1, ax2) = plt.subplots(ncols=2, figsize=(12, 5))\n",
    "# Plot distribusi sebelum Standard Scaler\n",
    "ax1.set_title('Sebelum Standard Scaler')\n",
    "sns.kdeplot(df_churn['TotalCharges'], ax=ax1, label='TotalCharges')\n",
    "ax1.set_xlabel('Rentang Nilai Sebelum Feature Scaling')\n",
    "ax1.legend()\n",
    "# Plot distribusi setelah Standard Scaler\n",
    "ax2.set_title('Setelah Standard Scaler')\n",
    "sns.kdeplot(df_churn['TotalCharges_scaled'], ax=ax2, label='TotalCharges (scaled)')\n",
    "ax2.set_xlabel('Rentang Nilai Setelah Feature Scaling')\n",
    "ax2.legend()\n",
    "plt.show()\n"
   ]
  },
  {
   "cell_type": "markdown",
   "metadata": {},
   "source": [
    "Berikut hasil dari standarisasi dari standar scaler, didapatan bahwa :\n",
    "1. Distribusi pada kolom totalcharges sebelum standarisasi memiliki rentang nilai yang sangat besar yakni dari 0 hingaa 10.000, selain itu distribusinya miring ke kanan y, dan memiliki nilai yang sangat bervariasi\n",
    "\n",
    "2. Setelah dilakukan standarisasi dengan standar scaler rentang nilainya hanya berkisar anatara -1 hingga 3 walaupun bentuk distribusi masih sama \n"
   ]
  },
  {
   "cell_type": "markdown",
   "metadata": {},
   "source": [
    "*4F). MINMAXSCALLER*"
   ]
  },
  {
   "cell_type": "code",
   "execution_count": 128,
   "metadata": {},
   "outputs": [],
   "source": [
    "from sklearn.preprocessing import MinMaxScaler\n",
    "scaler = MinMaxScaler()\n",
    "df_churn['TotalCharges_scaled'] = scaler.fit_transform(df_churn[['TotalCharges']])\n"
   ]
  },
  {
   "cell_type": "markdown",
   "metadata": {},
   "source": [
    "Pada tahap ini saya menginisialisasi kolom mana yang akan saya lakukan standarisasi dan metode apa yang saya pakai, di sini saya menginisialisasi standarisasi dengan minmaxscaler."
   ]
  },
  {
   "cell_type": "code",
   "execution_count": 129,
   "metadata": {},
   "outputs": [
    {
     "data": {
      "image/png": "[encoded data removed]",
      "text/plain": [
       "<Figure size 1200x500 with 2 Axes>"
      ]
     },
     "metadata": {},
     "output_type": "display_data"
    }
   ],
   "source": [
    "# Membuat visualisasi distribusi sebelum dan sesudah MinMax Scaler\n",
    "fig, (ax1, ax2) = plt.subplots(ncols=2, figsize=(12, 5))\n",
    "\n",
    "# Plot distribusi sebelum MinMax Scaler\n",
    "ax1.set_title('Sebelum MinMax Scaler')\n",
    "sns.kdeplot(df_churn['TotalCharges'].dropna(), ax=ax1, label='TotalCharges')\n",
    "ax1.set_xlabel('Rentang Nilai Sebelum Feature Scaling (MinMax Scaler)')\n",
    "ax1.legend()\n",
    "\n",
    "# Plot distribusi setelah MinMax Scaler\n",
    "ax2.set_title('Setelah MinMax Scaler')\n",
    "sns.kdeplot(df_churn['TotalCharges_scaled'].dropna(), ax=ax2, label='TotalCharges (scaled)')\n",
    "ax2.set_xlabel('Rentang Nilai Setelah Feature Scaling (MinMax Scaler)')\n",
    "ax2.legend()\n",
    "\n",
    "plt.show()"
   ]
  },
  {
   "cell_type": "markdown",
   "metadata": {},
   "source": [
    "Berikut hasil dari standarisasi dari minxmac scaler, didapatan bahwa :\n",
    "1. Distribusi pada kolom totalcharges sebelum standarisasi memiliki rentang nilai yang sangat besar yakni dari 0 hingaa 10.000 dan distribusinya miring ke kanan y\n",
    "2. Setelah menggunakan MinMax Scaler, nilai TotalCharges telah dinormalisasi dalam rentang 0 hingga 1 dan untuk distribusinya terlihat masih sama"
   ]
  }
 ],
 "metadata": {
  "kernelspec": {
   "display_name": "Python 3",
   "language": "python",
   "name": "python3"
  },
  "language_info": {
   "codemirror_mode": {
    "name": "ipython",
    "version": 3
   },
   "file_extension": ".py",
   "mimetype": "text/x-python",
   "name": "python",
   "nbconvert_exporter": "python",
   "pygments_lexer": "ipython3",
   "version": "3.11.4"
  }
 },
 "nbformat": 4,
 "nbformat_minor": 2
}
